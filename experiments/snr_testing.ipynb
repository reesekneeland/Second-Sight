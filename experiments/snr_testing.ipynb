{
 "cells": [
  {
   "cell_type": "code",
   "execution_count": 3,
   "metadata": {},
   "outputs": [
    {
     "name": "stderr",
     "output_type": "stream",
     "text": [
      "/export/raid1/home/kneel027/miniconda3/envs/SS/lib/python3.10/site-packages/tqdm/auto.py:21: TqdmWarning: IProgress not found. Please update jupyter and ipywidgets. See https://ipywidgets.readthedocs.io/en/stable/user_install.html\n",
      "  from .autonotebook import tqdm as notebook_tqdm\n"
     ]
    }
   ],
   "source": [
    "import os, sys, shutil\n",
    "import torch\n",
    "from tqdm import tqdm\n",
    "import numpy as np\n",
    "import pandas as pd\n",
    "import matplotlib as plt\n",
    "from PIL import Image\n",
    "sys.path.append(\"../src\")\n",
    "from utils import *\n",
    "from autoencoder import AutoEncoder\n",
    "from gnet8_encoder import GNet8_Encoder\n",
    "from matplotlib.lines import Line2D\n",
    "import matplotlib as mpl\n",
    "import math\n",
    "import matplotlib.image as mpimg\n",
    "import random\n",
    "os.chdir(\"..\")"
   ]
  },
  {
   "cell_type": "code",
   "execution_count": 6,
   "metadata": {},
   "outputs": [
    {
     "name": "stdout",
     "output_type": "stream",
     "text": [
      "torch.Size([30000, 15724])\n"
     ]
    },
    {
     "name": "stderr",
     "output_type": "stream",
     "text": [
      "loading samples: 100%|██████████| 30000/30000 [00:16<00:00, 1853.25it/s] \n"
     ]
    },
    {
     "name": "stdout",
     "output_type": "stream",
     "text": [
      "Data Shapes... x_train: torch.Size([22950, 15724]), x_val: torch.Size([4050, 15724]), x_test: torch.Size([1000, 3, 15724]), y_train: torch.Size([22950, 541875]), y_val: torch.Size([4050, 541875]), y_test: torch.Size([1000, 541875])\n"
     ]
    }
   ],
   "source": [
    "_, _, x_test, _, _, images, _ = load_nsd(vector=\"images\", subject=1, loader=False, average=False, nest=True, return_sessions=False, include_heldout=True)\n",
    "# x_test, images = load_nsd_mental_imagery(vector = \"images\", subject=1, mode=\"imagery\", stimtype=\"complex\", average=False, nest=True, epoch=0)"
   ]
  },
  {
   "cell_type": "code",
   "execution_count": 5,
   "metadata": {},
   "outputs": [
    {
     "name": "stdout",
     "output_type": "stream",
     "text": [
      "Shared1000 Betas, SNR: 0.5724920630455017, Signal: 0.43212106823921204, Noise: 0.7548071146011353\n"
     ]
    }
   ],
   "source": [
    "# betas are of dimension (num_images, num_trials, num_voxels)\n",
    "def calculate_snr_preaverage(betas):\n",
    "    averaged_betas = torch.mean(betas, dim=1)\n",
    "    print(averaged_betas.shape)\n",
    "    signal = torch.var(averaged_betas, dim=0)\n",
    "    trial_variance = torch.var(betas, dim=1)\n",
    "    print(trial_variance.shape)\n",
    "    noise = torch.mean(trial_variance, dim=0)\n",
    "    snr = torch.mean(signal / noise)\n",
    "    print(\"signal: \", signal.shape, signal)\n",
    "    print(\"noise: \", noise.shape, noise)\n",
    "    return snr, torch.mean(signal), torch.mean(noise)\n",
    "    \n",
    "def calculate_snr(betas):\n",
    "    signal = torch.var(torch.mean(betas, dim=1))\n",
    "    noise = torch.mean(torch.var(betas, dim=1))\n",
    "    snr = signal / noise\n",
    "    return snr, signal, noise\n",
    "mask = torch.load(\"/home/naxos2-raid25/kneel027/home/kneel027/Second-Sight/data/preprocessed_data/subject1/masks/early_vis.pt\")\n",
    "x_test = x_test[:, :, mask]\n",
    "snr, signal, noise = calculate_snr(x_test)\n",
    "print(f\"Shared1000 Betas, SNR: {snr}, Signal: {signal}, Noise: {noise}\")"
   ]
  },
  {
   "cell_type": "code",
   "execution_count": 36,
   "metadata": {},
   "outputs": [
    {
     "name": "stdout",
     "output_type": "stream",
     "text": [
      "Iteration 0, SNR: 5.519580364227295, Signal: 0.1259210854768753, Noise: 0.022813525050878525\n",
      "Iteration 1, SNR: 10.65185260772705, Signal: 0.13108642399311066, Noise: 0.01230644341558218\n",
      "Iteration 2, SNR: 15.335140228271484, Signal: 0.1322668492794037, Noise: 0.008625082671642303\n",
      "Iteration 3, SNR: 19.320838928222656, Signal: 0.13137006759643555, Noise: 0.006799397524446249\n",
      "Iteration 4, SNR: 26.068532943725586, Signal: 0.12962494790554047, Noise: 0.004972468130290508\n",
      "Iteration 5, SNR: 30.2148494720459, Signal: 0.12339673936367035, Noise: 0.004083976615220308\n",
      "Iteration 6, SNR: 37.837196350097656, Signal: 0.11781266331672668, Noise: 0.0031136733014136553\n",
      "Iteration 7, SNR: 47.5826416015625, Signal: 0.11170484125614166, Noise: 0.0023475964553654194\n",
      "Iteration 8, SNR: 61.4997673034668, Signal: 0.10785052925348282, Noise: 0.001753673772327602\n",
      "Iteration 9, SNR: 99.45069885253906, Signal: 0.10465738922357559, Noise: 0.0010523544624447823\n"
     ]
    }
   ],
   "source": [
    "\n",
    "snrs, signals, noises = [], [], []\n",
    "for iteration in range(10):\n",
    "    beta_primes = []\n",
    "    for image in range(1000):\n",
    "        if os.path.exists(f\"/home/naxos2-raid25/kneel027/home/kneel027/Second-Sight/output/mindeye_extension_v6/subject1/{image}/iter_{iteration}/best_batch/beta_primes/\"):\n",
    "            beta_prime = torch.zeros(5, x_test.shape[2])\n",
    "            for trial in range(5):\n",
    "                beta_prime[trial] = torch.load(f\"/home/naxos2-raid25/kneel027/home/kneel027/Second-Sight/output/mindeye_extension_v6/subject1/{image}/iter_{iteration}/best_batch/beta_primes/{trial}.pt\")\n",
    "            beta_primes.append(beta_prime)\n",
    "    beta_primes = torch.stack(beta_primes)\n",
    "    # dims = beta_primes.shape\n",
    "    # beta_primes = beta_primes.reshape(dims[0] * dims[1], dims[2])\n",
    "    # indices = torch.randperm(beta_primes.size(0))\n",
    "    # beta_primes = beta_primes[indices]\n",
    "    # beta_primes = beta_primes.reshape(dims[0], dims[1], dims[2])\n",
    "    # print(\"BETA PRIME STATS\", beta_primes.shape, torch.mean(beta_primes), torch.var(beta_primes), torch.std(beta_primes))\n",
    "    snr, signal, noise = calculate_snr(beta_primes)\n",
    "    snrs.append(snr)\n",
    "    signals.append(signal)\n",
    "    noises.append(noise)\n",
    "    print(f\"Iteration {iteration}, SNR: {snr}, Signal: {signal}, Noise: {noise}\")"
   ]
  },
  {
   "cell_type": "code",
   "execution_count": 40,
   "metadata": {},
   "outputs": [
    {
     "name": "stderr",
     "output_type": "stream",
     "text": [
      " 10%|█         | 1/10 [00:00<00:01,  5.21it/s]"
     ]
    },
    {
     "name": "stdout",
     "output_type": "stream",
     "text": [
      "BETA PRIME STATS torch.Size([100, 3, 15724]) tensor(-0.2046) tensor(0.2200) tensor(0.4690)\n",
      "Iteration 1.0, SNR: 21.42152976989746, Signal: 0.2133316993713379, Noise: 0.009958751499652863\n",
      "BETA PRIME STATS torch.Size([100, 3, 15724]) tensor(-0.2110) tensor(0.2211) tensor(0.4702)\n"
     ]
    },
    {
     "name": "stderr",
     "output_type": "stream",
     "text": [
      " 30%|███       | 3/10 [00:00<00:01,  5.61it/s]"
     ]
    },
    {
     "name": "stdout",
     "output_type": "stream",
     "text": [
      "Iteration 0.9, SNR: 22.48235321044922, Signal: 0.21470865607261658, Noise: 0.009550097398459911\n",
      "BETA PRIME STATS torch.Size([100, 3, 15724]) tensor(-0.2131) tensor(0.2201) tensor(0.4691)\n",
      "Iteration 0.8, SNR: 25.687646865844727, Signal: 0.21450085937976837, Noise: 0.008350350894033909\n",
      "BETA PRIME STATS torch.Size([100, 3, 15724]) "
     ]
    },
    {
     "name": "stderr",
     "output_type": "stream",
     "text": [
      " 40%|████      | 4/10 [00:00<00:01,  5.58it/s]"
     ]
    },
    {
     "name": "stdout",
     "output_type": "stream",
     "text": [
      "tensor(-0.2160) tensor(0.2205) tensor(0.4696)\n",
      "Iteration 0.7, SNR: 28.547988891601562, Signal: 0.21549074351787567, Noise: 0.007548368535935879\n",
      "BETA PRIME STATS torch.Size([100, 3, 15724]) tensor(-0.2197) tensor(0.2181) tensor(0.4670)\n"
     ]
    },
    {
     "name": "stderr",
     "output_type": "stream",
     "text": [
      " 60%|██████    | 6/10 [00:01<00:00,  5.63it/s]"
     ]
    },
    {
     "name": "stdout",
     "output_type": "stream",
     "text": [
      "Iteration 0.6, SNR: 33.59797286987305, Signal: 0.21380816400051117, Noise: 0.006363722030073404\n",
      "BETA PRIME STATS torch.Size([100, 3, 15724]) tensor(-0.2245) tensor(0.2142) tensor(0.4628)\n",
      "Iteration 0.5, SNR: 33.19110107421875, Signal: 0.20998640358448029, Noise: 0.006326587405055761\n"
     ]
    },
    {
     "name": "stderr",
     "output_type": "stream",
     "text": [
      " 70%|███████   | 7/10 [00:01<00:00,  5.60it/s]"
     ]
    },
    {
     "name": "stdout",
     "output_type": "stream",
     "text": [
      "BETA PRIME STATS torch.Size([100, 3, 15724]) tensor(-0.2330) tensor(0.2080) tensor(0.4561)\n",
      "Iteration 0.4, SNR: 38.325626373291016, Signal: 0.20447547733783722, Noise: 0.005335215479135513\n",
      "BETA PRIME STATS torch.Size([100, 3, 15724]) tensor(-0.2449) tensor(0.2037) tensor(0.4514)\n"
     ]
    },
    {
     "name": "stderr",
     "output_type": "stream",
     "text": [
      " 90%|█████████ | 9/10 [00:01<00:00,  5.60it/s]"
     ]
    },
    {
     "name": "stdout",
     "output_type": "stream",
     "text": [
      "Iteration 0.3, SNR: 52.7389030456543, Signal: 0.2011791169643402, Noise: 0.00381462462246418\n",
      "BETA PRIME STATS torch.Size([100, 3, 15724]) tensor(-0.2620) tensor(0.2053) tensor(0.4531)\n",
      "Iteration 0.2, SNR: 139.8489990234375, Signal: 0.20430885255336761, Noise: 0.0014609246281906962\n"
     ]
    },
    {
     "name": "stderr",
     "output_type": "stream",
     "text": [
      "100%|██████████| 10/10 [00:01<00:00,  5.61it/s]"
     ]
    },
    {
     "name": "stdout",
     "output_type": "stream",
     "text": [
      "BETA PRIME STATS torch.Size([100, 3, 15724]) tensor(-0.2742) tensor(0.2103) tensor(0.4586)\n",
      "Iteration 0.1, SNR: 516.6364135742188, Signal: 0.21000616252422333, Noise: 0.0004064873210154474\n"
     ]
    },
    {
     "name": "stderr",
     "output_type": "stream",
     "text": [
      "\n"
     ]
    }
   ],
   "source": [
    "snrs, signals, noises = [], [], []\n",
    "output_path = \"/home/naxos2-raid25/kneel027/home/kneel027/Second-Sight/output/snr_threshold_v1\"\n",
    "\n",
    "for strength in tqdm([1.0, 0.9, 0.8, 0.7, 0.6, 0.5, 0.4, 0.3, 0.2, 0.1]):\n",
    "    beta_primes = torch.zeros((100, 3, 15724))\n",
    "    for sample in range(100):\n",
    "        beta_primes[sample] = torch.load(f\"{output_path}/subject1/{strength}/{sample}/beta_primes.pt\")\n",
    "        # print(beta_primes[sample].shape)\n",
    "    print(\"BETA PRIME STATS\", beta_primes.shape, torch.mean(beta_primes), torch.var(beta_primes), torch.std(beta_primes))\n",
    "    snr, signal, noise = calculate_snr(beta_primes)\n",
    "    snrs.append(snr)\n",
    "    signals.append(signal)\n",
    "    noises.append(noise)\n",
    "    print(f\"Iteration {strength}, SNR: {snr}, Signal: {signal}, Noise: {noise}\")"
   ]
  },
  {
   "cell_type": "code",
   "execution_count": 39,
   "metadata": {},
   "outputs": [
    {
     "data": {
      "image/png": "[encoded data removed]",
      "text/plain": [
       "<Figure size 640x480 with 3 Axes>"
      ]
     },
     "metadata": {},
     "output_type": "display_data"
    }
   ],
   "source": [
    "import matplotlib.pyplot as plt\n",
    "\n",
    "# Create figure and axes\n",
    "fig, ax1 = plt.subplots()\n",
    "\n",
    "# Plot SNR\n",
    "ax1.plot(snrs, label='SNR', color='blue')\n",
    "ax1.set_ylabel('SNR')\n",
    "ax1.set_xlabel('Iteration')\n",
    "ax1.tick_params(axis='y', labelcolor='blue')\n",
    "\n",
    "# Create second y-axis\n",
    "ax2 = ax1.twinx()\n",
    "\n",
    "# Plot Signal\n",
    "ax2.plot(signals, label='Signal', color='red')\n",
    "ax2.set_ylabel('Signal')\n",
    "ax2.tick_params(axis='y', labelcolor='red')\n",
    "\n",
    "# Create third y-axis\n",
    "ax3 = ax1.twinx()\n",
    "\n",
    "# Plot Noise\n",
    "ax3.plot(noises, label='Noise', color='green')\n",
    "ax3.set_ylabel('Noise')\n",
    "ax3.spines['right'].set_position(('outward', 60))\n",
    "ax3.tick_params(axis='y', labelcolor='green')\n",
    "\n",
    "# Adding labels and title\n",
    "plt.xlabel('Iteration')\n",
    "plt.title('SNR, Signal, and Noise')\n",
    "\n",
    "# Display the plot\n",
    "plt.show()\n"
   ]
  },
  {
   "cell_type": "code",
   "execution_count": null,
   "metadata": {},
   "outputs": [
    {
     "name": "stderr",
     "output_type": "stream",
     "text": [
      "100%|██████████| 1000/1000 [05:44<00:00,  2.90it/s]\n"
     ]
    },
    {
     "name": "stdout",
     "output_type": "stream",
     "text": [
      "0 tensor(0.1217)\n"
     ]
    },
    {
     "name": "stderr",
     "output_type": "stream",
     "text": [
      "100%|██████████| 1000/1000 [01:14<00:00, 13.47it/s]\n"
     ]
    },
    {
     "name": "stdout",
     "output_type": "stream",
     "text": [
      "1 tensor(0.1296)\n"
     ]
    },
    {
     "name": "stderr",
     "output_type": "stream",
     "text": [
      "100%|██████████| 1000/1000 [01:12<00:00, 13.86it/s]\n"
     ]
    },
    {
     "name": "stdout",
     "output_type": "stream",
     "text": [
      "2 tensor(0.1315)\n"
     ]
    },
    {
     "name": "stderr",
     "output_type": "stream",
     "text": [
      "100%|██████████| 1000/1000 [01:03<00:00, 15.77it/s]\n"
     ]
    },
    {
     "name": "stdout",
     "output_type": "stream",
     "text": [
      "3 tensor(0.1307)\n"
     ]
    },
    {
     "name": "stderr",
     "output_type": "stream",
     "text": [
      "100%|██████████| 1000/1000 [00:52<00:00, 19.19it/s]\n"
     ]
    },
    {
     "name": "stdout",
     "output_type": "stream",
     "text": [
      "4 tensor(0.1293)\n"
     ]
    },
    {
     "name": "stderr",
     "output_type": "stream",
     "text": [
      "100%|██████████| 1000/1000 [00:40<00:00, 24.94it/s]\n"
     ]
    },
    {
     "name": "stdout",
     "output_type": "stream",
     "text": [
      "5 tensor(0.1232)\n"
     ]
    },
    {
     "name": "stderr",
     "output_type": "stream",
     "text": [
      "100%|██████████| 1000/1000 [00:27<00:00, 36.57it/s]\n"
     ]
    },
    {
     "name": "stdout",
     "output_type": "stream",
     "text": [
      "6 tensor(0.1178)\n"
     ]
    },
    {
     "name": "stderr",
     "output_type": "stream",
     "text": [
      "100%|██████████| 1000/1000 [00:14<00:00, 68.72it/s]\n"
     ]
    },
    {
     "name": "stdout",
     "output_type": "stream",
     "text": [
      "7 tensor(0.1117)\n"
     ]
    },
    {
     "name": "stderr",
     "output_type": "stream",
     "text": [
      "100%|██████████| 1000/1000 [00:06<00:00, 150.27it/s]\n"
     ]
    },
    {
     "name": "stdout",
     "output_type": "stream",
     "text": [
      "8 tensor(0.1079)\n"
     ]
    },
    {
     "name": "stderr",
     "output_type": "stream",
     "text": [
      "100%|██████████| 1000/1000 [00:05<00:00, 198.78it/s]"
     ]
    },
    {
     "name": "stdout",
     "output_type": "stream",
     "text": [
      "9 tensor(0.1047)\n"
     ]
    },
    {
     "name": "stderr",
     "output_type": "stream",
     "text": [
      "\n"
     ]
    }
   ],
   "source": [
    "import os\n",
    "import torch\n",
    "\n",
    "for iteration in range(10):\n",
    "    beta_primes = []\n",
    "    for image in tqdm(range(1000)):\n",
    "        if os.path.exists(f\"/home/naxos2-raid25/kneel027/home/kneel027/Second-Sight/output/mindeye_extension_v6/subject1/{image}/iter_{iteration}/best_batch/beta_primes/\"):\n",
    "            beta_primes_sample = []\n",
    "            directory = f\"/home/naxos2-raid25/kneel027/home/kneel027/Second-Sight/output/mindeye_extension_v6/subject1/{image}/iter_{iteration}/best_batch/beta_primes/\"\n",
    "            for filename in os.listdir(directory):\n",
    "                if filename.endswith(\".pt\"):\n",
    "                    file_path = os.path.join(directory, filename)\n",
    "                    beta_prime = torch.load(file_path)\n",
    "                    beta_primes_sample.append(beta_prime)\n",
    "\n",
    "            beta_prime = torch.stack(beta_primes_sample)\n",
    "            beta_prime = torch.mean(beta_prime, dim=0)\n",
    "            beta_primes.append(beta_prime)\n",
    "    beta_primes = torch.stack(beta_primes)\n",
    "    print(iteration, torch.var(beta_primes))\n",
    "    # dims = beta_primes.shape\n",
    "    # beta_primes = beta_primes.reshape(dims[0] * dims[1], dims[2])\n",
    "    # indices = torch.randperm(beta_primes.size(0))\n",
    "    # beta_primes = beta_primes[indices]\n",
    "    # beta_primes = beta_primes.reshape(dims[0], dims[1], dims[2])\n",
    "    # print(beta_primes.shape)\n",
    "    # snr, signal, noise = calculate_snr(beta_primes)\n",
    "    # snrs.append(snr)\n",
    "    # signals.append(signal)\n",
    "    # noises.append(noise)\n",
    "    # print(iteration, snr)"
   ]
  }
 ],
 "metadata": {
  "kernelspec": {
   "display_name": "SS",
   "language": "python",
   "name": "python3"
  },
  "language_info": {
   "codemirror_mode": {
    "name": "ipython",
    "version": 3
   },
   "file_extension": ".py",
   "mimetype": "text/x-python",
   "name": "python",
   "nbconvert_exporter": "python",
   "pygments_lexer": "ipython3",
   "version": "3.10.12"
  }
 },
 "nbformat": 4,
 "nbformat_minor": 2
}
