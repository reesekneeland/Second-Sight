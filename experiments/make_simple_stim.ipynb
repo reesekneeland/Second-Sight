{
 "cells": [
  {
   "cell_type": "code",
   "execution_count": 1,
   "metadata": {
    "collapsed": false
   },
   "outputs": [],
   "source": [
    "import numpy as np\n",
    "import matplotlib.pyplot as plt\n",
    "from scipy import misc\n",
    "import math\n",
    "from matplotlib import patches\n",
    "from PIL import Image\n",
    "# from matplotlib import cm\n",
    "# from PIL import Image\n",
    "\n",
    "%matplotlib inline "
   ]
  },
  {
   "cell_type": "code",
   "execution_count": 2,
   "metadata": {
    "collapsed": false
   },
   "outputs": [],
   "source": [
    "def oblong(X, Y, x0, y0, h, w, angle):\n",
    "    x, y = X - x0, Y - y0\n",
    "    u = x * np.cos(angle) + y * np.sin(angle)\n",
    "    v = -x * np.sin(angle)+ y * np.cos(angle)\n",
    "    return np.logical_and(np.abs(u)<h/2, np.abs(v)<w/2)\n",
    "\n",
    "def cross(X, Y, x0, y0, h, w, angle):\n",
    "    x1 = oblong(X, Y, x0, y0, h, w, angle)\n",
    "    x2 = oblong(X, Y, x0, y0, h, w, angle+np.pi/2)\n",
    "    return np.logical_or(x1, x2)"
   ]
  },
  {
   "cell_type": "code",
   "execution_count": 3,
   "metadata": {
    "collapsed": false,
    "scrolled": true
   },
   "outputs": [],
   "source": [
    "## make bars\n",
    "\n",
    "factor = 4\n",
    "X, Y = np.meshgrid(np.linspace(0,714*factor,714*factor), np.linspace(0,714*factor,714*factor))\n",
    "rad_increment = np.pi/8\n",
    "#lengths = [700, 600, 500, 400, 300]  # if we use 6 lengths[700, 600, 500, 400, 300, 200]\n",
    "lengths = [650, 550, 450, 350, 250] \n",
    "\n",
    "# widths = [3, 23, 43, 63]  # if we use 5 widths [3, 23, 43, 63, 83]\n",
    "widths = [3, 23, 43, 63, 83, 93]\n",
    "\n",
    "angles = np.array([0,1,2,3,4,5,6,7])*rad_increment\n",
    "\n",
    "for theta in angles:\n",
    "    for l in lengths:\n",
    "        for w in widths:\n",
    "            Z = oblong(X, Y, (714*factor)/2, (714*factor)/2, l*factor, w*factor, theta) # np.pi/6)\n",
    "            plt.figure()\n",
    "            plt.imshow(Z, origin='lower', cmap='Greys')\n",
    "            Z = (1-Z)*1.0\n",
    "            Z[Z==1]=.5; \n",
    "            Z = np.uint8(Z * 255)\n",
    "            im = Image.fromarray(Z, mode='L')\n",
    "            im = im.resize((714, 714), resample = Image.BILINEAR)\n",
    "            #test = im.getpixel((307,307))\n",
    "\n",
    "            im = im.transpose(Image.FLIP_LEFT_RIGHT)\n",
    "            filename = '/home/naxos2-raid25/kneel027/home/kneel027/Second-Sight/data/nsddata_stimuli/stimuli/attention_images/bar_%05.1fdeg_%sL_%02dW.png' %(math.degrees(theta), l, w)\n",
    "            im.save(filename)\n",
    "            plt.close()\n",
    "\n",
    "            "
   ]
  },
  {
   "cell_type": "code",
   "execution_count": 4,
   "metadata": {
    "collapsed": false,
    "scrolled": true
   },
   "outputs": [],
   "source": [
    "## make crosses \n",
    "\n",
    "X, Y = np.meshgrid(np.linspace(0,714*factor,714*factor), np.linspace(0,714*factor,714*factor))\n",
    "rad_increment = np.pi/8\n",
    "#lengths = [700, 600, 500, 400, 300]  # if we use 6 lengths[700, 600, 500, 400, 300, 200]\n",
    "lengths = [650, 550, 450, 350, 250] \n",
    "\n",
    "# widths = [3, 23, 43, 63]  # if we use 5 widths [3, 23, 43, 63, 83]\n",
    "widths = [3, 23, 43, 63, 83, 93]\n",
    "\n",
    "angles = np.array([0,1,2,3])*rad_increment\n",
    "\n",
    "for theta in angles:\n",
    "    for l in lengths:\n",
    "        for w in widths:\n",
    "            Z = cross(X, Y, (714*factor)/2, (714*factor)/2, l*factor, w*factor, theta) # np.pi/6)\n",
    "            plt.figure()\n",
    "            plt.imshow(Z, origin='lower', cmap='Greys')\n",
    "            Z = (1-Z)*1.0\n",
    "            Z[Z==1]=.5; \n",
    "            Z = np.uint8(Z * 255)\n",
    "            im = Image.fromarray(Z, mode='L')\n",
    "            im = im.resize((714, 714), resample = Image.BILINEAR)\n",
    "            im = im.transpose(Image.FLIP_LEFT_RIGHT)\n",
    "            filename = '/home/naxos2-raid25/kneel027/home/kneel027/Second-Sight/data/nsddata_stimuli/stimuli/attention_images/crs_%05.1fdeg_%sL_%02dW.png' %(math.degrees(theta), l, w)\n",
    "\n",
    "            im.save(filename)\n",
    "            plt.close()\n"
   ]
  },
  {
   "cell_type": "code",
   "execution_count": 5,
   "metadata": {
    "collapsed": false
   },
   "outputs": [],
   "source": [
    "# n = 4\n",
    "# X, Y = np.meshgrid(np.linspace(0,714*n,714*n), np.linspace(0,714*n,714*n))\n",
    "# Z = oblong(X, Y, (714*n)/2, (714*n)/2, 700*n, 3*n , rad_increment)\n",
    "# plt.imshow(Z, origin='lower', cmap='Greys')\n",
    "# Z = Z*1.0\n",
    "# print Z\n",
    "\n",
    "# im = Image.fromarray(Z)\n",
    "# im = im.resize((714, 714), resample = Image.BILINEAR)\n",
    "# print im.size\n",
    "# print type(im)\n",
    "# # im.save('test_saving.png')\n",
    "# misc.imsave('saving_test.png', im)\n"
   ]
  },
  {
   "cell_type": "code",
   "execution_count": 12,
   "metadata": {
    "collapsed": false
   },
   "outputs": [
    {
     "name": "stderr",
     "output_type": "stream",
     "text": [
      "100%|██████████| 1149/1149 [23:24<00:00,  1.22s/it]\n"
     ]
    }
   ],
   "source": [
    "import os\n",
    "import shutil\n",
    "from tqdm import tqdm\n",
    "\n",
    "source_dir = '/export/raid1/home/surly/raid4/kendrick-data/nsd/nsddata_stimuli/stimuli/nsdimagery/allstim'\n",
    "destination_dir = '/home/naxos2-raid25/kneel027/home/kneel027/Second-Sight/data/nsddata_stimuli/stimuli/attention_images'\n",
    "\n",
    "\n",
    "# Get a list of all files in the source directory\n",
    "file_list = os.listdir(source_dir)\n",
    "\n",
    "# Iterate over the files and copy only the PNG files to the destination directory\n",
    "for file in tqdm(file_list):\n",
    "    if file.endswith('.png'):\n",
    "        source_file = os.path.join(source_dir, file)\n",
    "        destination_file = os.path.join(destination_dir, file)\n",
    "        shutil.copy(source_file, destination_file)\n"
   ]
  }
 ],
 "metadata": {
  "kernelspec": {
   "display_name": "SS",
   "language": "python",
   "name": "python3"
  },
  "language_info": {
   "codemirror_mode": {
    "name": "ipython",
    "version": 3
   },
   "file_extension": ".py",
   "mimetype": "text/x-python",
   "name": "python",
   "nbconvert_exporter": "python",
   "pygments_lexer": "ipython3",
   "version": "3.10.12"
  }
 },
 "nbformat": 4,
 "nbformat_minor": 2
}
