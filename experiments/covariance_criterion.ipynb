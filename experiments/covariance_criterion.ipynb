{
 "cells": [
  {
   "cell_type": "code",
   "execution_count": 6,
   "metadata": {},
   "outputs": [
    {
     "name": "stderr",
     "output_type": "stream",
     "text": [
      "/export/raid1/home/kneel027/miniconda3/envs/SS/lib/python3.10/site-packages/tqdm/auto.py:21: TqdmWarning: IProgress not found. Please update jupyter and ipywidgets. See https://ipywidgets.readthedocs.io/en/stable/user_install.html\n",
      "  from .autonotebook import tqdm as notebook_tqdm\n"
     ]
    }
   ],
   "source": [
    "import os, sys, shutil\n",
    "import torch\n",
    "from tqdm import tqdm\n",
    "import numpy as np\n",
    "import pandas as pd\n",
    "import matplotlib as plt\n",
    "from PIL import Image\n",
    "sys.path.append(\"../src\")\n",
    "from utils import *\n",
    "from autoencoder import AutoEncoder\n",
    "from matplotlib.lines import Line2D\n",
    "import matplotlib as mpl\n",
    "import math\n",
    "import matplotlib.image as mpimg\n",
    "import random\n",
    "os.chdir(\"..\")"
   ]
  },
  {
   "cell_type": "code",
   "execution_count": null,
   "metadata": {},
   "outputs": [],
   "source": []
  },
  {
   "cell_type": "code",
   "execution_count": 21,
   "metadata": {},
   "outputs": [
    {
     "name": "stderr",
     "output_type": "stream",
     "text": [
      "loading samples: 100%|██████████| 27749/27749 [00:02<00:00, 9362.85it/s] \n"
     ]
    },
    {
     "name": "stdout",
     "output_type": "stream",
     "text": [
      "Data Shapes... x_train: torch.Size([21216, 15724]), x_val: torch.Size([3763, 15724]), x_test: torch.Size([982, 3, 15724]), y_train: torch.Size([21216, 1024]), y_val: torch.Size([3763, 1024]), y_test: torch.Size([982, 1024])\n",
      "SAMPLE 0 TARGET COVARIANCE MEAN: 0.0016177833734382359  TARGET VARIANCE:  0.4087345004081726\n",
      "iter_0 BETA PRIME COVARIANCE MEAN:  0.0003638817887841665  BETA PRIME VARIANCE:  0.014520238153636456\n",
      "iter_1 BETA PRIME COVARIANCE MEAN:  7.819463059954952e-05  BETA PRIME VARIANCE:  0.00760193495079875\n",
      "iter_2 BETA PRIME COVARIANCE MEAN:  6.55571990946345e-05  BETA PRIME VARIANCE:  0.0072535062208771706\n",
      "SAMPLE 1 TARGET COVARIANCE MEAN: 0.07468669696482176  TARGET VARIANCE:  0.40260079503059387\n",
      "iter_0 BETA PRIME COVARIANCE MEAN:  0.000504743427908838  BETA PRIME VARIANCE:  0.025200042873620987\n",
      "iter_1 BETA PRIME COVARIANCE MEAN:  0.0003407729551447811  BETA PRIME VARIANCE:  0.010418016463518143\n",
      "iter_2 BETA PRIME COVARIANCE MEAN:  0.00010054751652362453  BETA PRIME VARIANCE:  0.006166188977658749\n",
      "SAMPLE 2 TARGET COVARIANCE MEAN: 0.17604083060987394  TARGET VARIANCE:  0.4856068789958954\n",
      "iter_0 BETA PRIME COVARIANCE MEAN:  0.00027621754195245165  BETA PRIME VARIANCE:  0.021671904250979424\n",
      "iter_1 BETA PRIME COVARIANCE MEAN:  0.00020555764029154064  BETA PRIME VARIANCE:  0.009275653399527073\n",
      "iter_2 BETA PRIME COVARIANCE MEAN:  9.621585711774325e-05  BETA PRIME VARIANCE:  0.0072181043215096\n",
      "iter_3 BETA PRIME COVARIANCE MEAN:  4.4834206187589996e-05  BETA PRIME VARIANCE:  0.0036677822936326265\n",
      "iter_4 BETA PRIME COVARIANCE MEAN:  4.682232725656028e-05  BETA PRIME VARIANCE:  0.00380385247990489\n",
      "iter_5 BETA PRIME COVARIANCE MEAN:  4.8586399152109774e-05  BETA PRIME VARIANCE:  0.0028129005804657936\n",
      "iter_6 BETA PRIME COVARIANCE MEAN:  8.157007893449192e-05  BETA PRIME VARIANCE:  0.0018053320236504078\n",
      "SAMPLE 3 TARGET COVARIANCE MEAN: 0.145572283435632  TARGET VARIANCE:  0.4418596923351288\n",
      "iter_0 BETA PRIME COVARIANCE MEAN:  0.00047529644409793556  BETA PRIME VARIANCE:  0.02380300685763359\n",
      "iter_1 BETA PRIME COVARIANCE MEAN:  0.0002494825532116445  BETA PRIME VARIANCE:  0.019878046587109566\n",
      "iter_2 BETA PRIME COVARIANCE MEAN:  0.0007074031877993978  BETA PRIME VARIANCE:  0.023235950618982315\n",
      "iter_3 BETA PRIME COVARIANCE MEAN:  0.0001495852672967225  BETA PRIME VARIANCE:  0.008954876102507114\n",
      "iter_4 BETA PRIME COVARIANCE MEAN:  0.00012465031265710322  BETA PRIME VARIANCE:  0.004419345874339342\n",
      "iter_5 BETA PRIME COVARIANCE MEAN:  0.00013028787236203556  BETA PRIME VARIANCE:  0.0056328498758375645\n",
      "iter_6 BETA PRIME COVARIANCE MEAN:  0.00017710201737515784  BETA PRIME VARIANCE:  0.004704731050878763\n",
      "SAMPLE 4 TARGET COVARIANCE MEAN: 0.08587694821115799  TARGET VARIANCE:  0.40963056683540344\n",
      "iter_0 BETA PRIME COVARIANCE MEAN:  7.96246813755783e-05  BETA PRIME VARIANCE:  0.009807086549699306\n",
      "iter_1 BETA PRIME COVARIANCE MEAN:  0.0001424734143382167  BETA PRIME VARIANCE:  0.006069381255656481\n",
      "iter_2 BETA PRIME COVARIANCE MEAN:  7.895437472968746e-05  BETA PRIME VARIANCE:  0.00349996704608202\n",
      "iter_3 BETA PRIME COVARIANCE MEAN:  9.734925717335079e-05  BETA PRIME VARIANCE:  0.003235816489905119\n",
      "iter_4 BETA PRIME COVARIANCE MEAN:  0.00018647330497548043  BETA PRIME VARIANCE:  0.0027079579886049032\n",
      "iter_5 BETA PRIME COVARIANCE MEAN:  8.197417471109444e-05  BETA PRIME VARIANCE:  0.0021206168457865715\n",
      "iter_6 BETA PRIME COVARIANCE MEAN:  2.8630817318013082e-05  BETA PRIME VARIANCE:  0.0012618496548384428\n",
      "SAMPLE 5 TARGET COVARIANCE MEAN: 0.0009093621017475428  TARGET VARIANCE:  0.41150662302970886\n",
      "iter_0 BETA PRIME COVARIANCE MEAN:  0.00013138832780404473  BETA PRIME VARIANCE:  0.006110119633376598\n",
      "iter_1 BETA PRIME COVARIANCE MEAN:  0.00011909928072079994  BETA PRIME VARIANCE:  0.003808732144534588\n",
      "iter_2 BETA PRIME COVARIANCE MEAN:  2.456550069447328e-05  BETA PRIME VARIANCE:  0.0019205424468964338\n",
      "SAMPLE 6 TARGET COVARIANCE MEAN: 0.024669879290222962  TARGET VARIANCE:  0.3174457252025604\n",
      "iter_0 BETA PRIME COVARIANCE MEAN:  0.0005602050171226153  BETA PRIME VARIANCE:  0.036628443747758865\n",
      "iter_1 BETA PRIME COVARIANCE MEAN:  0.0008122112030081364  BETA PRIME VARIANCE:  0.019643906503915787\n",
      "iter_2 BETA PRIME COVARIANCE MEAN:  0.00026710101566798774  BETA PRIME VARIANCE:  0.010846982710063457\n",
      "iter_3 BETA PRIME COVARIANCE MEAN:  0.0002540324849377218  BETA PRIME VARIANCE:  0.008157863281667233\n",
      "SAMPLE 7 TARGET COVARIANCE MEAN: 0.006193409025676867  TARGET VARIANCE:  0.3387947678565979\n",
      "iter_0 BETA PRIME COVARIANCE MEAN:  0.0006846804764595051  BETA PRIME VARIANCE:  0.03848966211080551\n",
      "iter_1 BETA PRIME COVARIANCE MEAN:  0.00037546302819258166  BETA PRIME VARIANCE:  0.010939625091850758\n",
      "iter_2 BETA PRIME COVARIANCE MEAN:  0.0003338812781261039  BETA PRIME VARIANCE:  0.006029720883816481\n",
      "iter_3 BETA PRIME COVARIANCE MEAN:  0.00019531842470208092  BETA PRIME VARIANCE:  0.004751536063849926\n",
      "iter_4 BETA PRIME COVARIANCE MEAN:  0.00015006809542392332  BETA PRIME VARIANCE:  0.0025135769974440336\n"
     ]
    },
    {
     "ename": "KeyboardInterrupt",
     "evalue": "",
     "output_type": "error",
     "traceback": [
      "\u001b[0;31m---------------------------------------------------------------------------\u001b[0m",
      "\u001b[0;31mKeyboardInterrupt\u001b[0m                         Traceback (most recent call last)",
      "\u001b[1;32m/home/naxos2-raid25/kneel027/home/kneel027/Second-Sight/experiments/covariance_criterion.ipynb Cell 3\u001b[0m line \u001b[0;36m2\n\u001b[1;32m     <a href='vscode-notebook-cell://ssh-remote%2Bhypatia.cmrr.umn.edu/home/naxos2-raid25/kneel027/home/kneel027/Second-Sight/experiments/covariance_criterion.ipynb#W1sdnNjb2RlLXJlbW90ZQ%3D%3D?line=22'>23</a>\u001b[0m                 beta_primes\u001b[39m.\u001b[39mappend(torch\u001b[39m.\u001b[39mload(os\u001b[39m.\u001b[39mpath\u001b[39m.\u001b[39mjoin(file_path, file)))\n\u001b[1;32m     <a href='vscode-notebook-cell://ssh-remote%2Bhypatia.cmrr.umn.edu/home/naxos2-raid25/kneel027/home/kneel027/Second-Sight/experiments/covariance_criterion.ipynb#W1sdnNjb2RlLXJlbW90ZQ%3D%3D?line=23'>24</a>\u001b[0m beta_primes \u001b[39m=\u001b[39m torch\u001b[39m.\u001b[39mstack(beta_primes)\n\u001b[0;32m---> <a href='vscode-notebook-cell://ssh-remote%2Bhypatia.cmrr.umn.edu/home/naxos2-raid25/kneel027/home/kneel027/Second-Sight/experiments/covariance_criterion.ipynb#W1sdnNjb2RlLXJlbW90ZQ%3D%3D?line=24'>25</a>\u001b[0m beta_prime_covariance_matrix \u001b[39m=\u001b[39m np\u001b[39m.\u001b[39;49mcov(beta_primes\u001b[39m.\u001b[39;49mnumpy()\u001b[39m.\u001b[39;49mT)\n\u001b[1;32m     <a href='vscode-notebook-cell://ssh-remote%2Bhypatia.cmrr.umn.edu/home/naxos2-raid25/kneel027/home/kneel027/Second-Sight/experiments/covariance_criterion.ipynb#W1sdnNjb2RlLXJlbW90ZQ%3D%3D?line=25'>26</a>\u001b[0m beta_prime_covariance \u001b[39m=\u001b[39m np\u001b[39m.\u001b[39mmean(beta_prime_covariance_matrix)\n\u001b[1;32m     <a href='vscode-notebook-cell://ssh-remote%2Bhypatia.cmrr.umn.edu/home/naxos2-raid25/kneel027/home/kneel027/Second-Sight/experiments/covariance_criterion.ipynb#W1sdnNjb2RlLXJlbW90ZQ%3D%3D?line=26'>27</a>\u001b[0m \u001b[39mprint\u001b[39m(\u001b[39mf\u001b[39m\u001b[39m\"\u001b[39m\u001b[39m{\u001b[39;00mfolder\u001b[39m}\u001b[39;00m\u001b[39m BETA PRIME COVARIANCE MEAN: \u001b[39m\u001b[39m\"\u001b[39m, beta_prime_covariance, \u001b[39m\"\u001b[39m\u001b[39m BETA PRIME VARIANCE: \u001b[39m\u001b[39m\"\u001b[39m, bootstrap_variance(prepare_betas(beta_primes)))\n",
      "File \u001b[0;32m<__array_function__ internals>:200\u001b[0m, in \u001b[0;36mcov\u001b[0;34m(*args, **kwargs)\u001b[0m\n",
      "File \u001b[0;32m/export/raid1/home/kneel027/miniconda3/envs/SS/lib/python3.10/site-packages/numpy/lib/function_base.py:2704\u001b[0m, in \u001b[0;36mcov\u001b[0;34m(m, y, rowvar, bias, ddof, fweights, aweights, dtype)\u001b[0m\n\u001b[1;32m   2702\u001b[0m \u001b[39melse\u001b[39;00m:\n\u001b[1;32m   2703\u001b[0m     X_T \u001b[39m=\u001b[39m (X\u001b[39m*\u001b[39mw)\u001b[39m.\u001b[39mT\n\u001b[0;32m-> 2704\u001b[0m c \u001b[39m=\u001b[39m dot(X, X_T\u001b[39m.\u001b[39;49mconj())\n\u001b[1;32m   2705\u001b[0m c \u001b[39m*\u001b[39m\u001b[39m=\u001b[39m np\u001b[39m.\u001b[39mtrue_divide(\u001b[39m1\u001b[39m, fact)\n\u001b[1;32m   2706\u001b[0m \u001b[39mreturn\u001b[39;00m c\u001b[39m.\u001b[39msqueeze()\n",
      "File \u001b[0;32m<__array_function__ internals>:200\u001b[0m, in \u001b[0;36mdot\u001b[0;34m(*args, **kwargs)\u001b[0m\n",
      "\u001b[0;31mKeyboardInterrupt\u001b[0m: "
     ]
    }
   ],
   "source": [
    "path = \"/home/naxos2-raid25/kneel027/home/kneel027/Second-Sight/output/mindeye_extension_v6/\"\n",
    "\n",
    "for subject in [1, 2, 5, 7]:\n",
    "    _, _, x_test, _, _, targets_clips, _ = load_nsd(vector=\"c\", subject=subject, loader=False, average=False, nest=True)\n",
    "    for idx in range(982):\n",
    "        betas = x_test[idx]\n",
    "        target_covariance_matrix = np.cov(betas.numpy().T)\n",
    "        target_covariance = np.mean(target_covariance_matrix)\n",
    "        print(f\"SAMPLE {idx} TARGET COVARIANCE MEAN:\", target_covariance, \" TARGET VARIANCE: \", bootstrap_variance(prepare_betas(betas)))\n",
    "        \n",
    "        idx_path = f\"{path}subject{subject}/{idx}/\"\n",
    "        folders = os.listdir(idx_path)\n",
    "        for folder in folders:\n",
    "            beta_primes = []\n",
    "            if os.path.isdir(os.path.join(idx_path, folder)) and folder != \"best_distribution\":\n",
    "                folder_path = f\"{idx_path}{folder}/\"\n",
    "                subfolders = os.listdir(folder_path)\n",
    "                for subfolder in subfolders:\n",
    "                    if subfolder == \"best_batch\":\n",
    "                        file_path = f\"{folder_path}{subfolder}/beta_primes/\"\n",
    "                        for file in os.listdir(file_path):\n",
    "                            if file.endswith(\".pt\"):\n",
    "                                beta_primes.append(torch.load(os.path.join(file_path, file)))\n",
    "                beta_primes = torch.stack(beta_primes)\n",
    "                beta_prime_covariance_matrix = np.cov(beta_primes.numpy().T)\n",
    "                beta_prime_covariance = np.mean(beta_prime_covariance_matrix)\n",
    "                print(f\"{folder} BETA PRIME COVARIANCE MEAN: \", beta_prime_covariance, \" BETA PRIME VARIANCE: \", bootstrap_variance(prepare_betas(beta_primes)))\n",
    "                        "
   ]
  }
 ],
 "metadata": {
  "kernelspec": {
   "display_name": "SS",
   "language": "python",
   "name": "python3"
  },
  "language_info": {
   "codemirror_mode": {
    "name": "ipython",
    "version": 3
   },
   "file_extension": ".py",
   "mimetype": "text/x-python",
   "name": "python",
   "nbconvert_exporter": "python",
   "pygments_lexer": "ipython3",
   "version": "3.10.12"
  }
 },
 "nbformat": 4,
 "nbformat_minor": 2
}
