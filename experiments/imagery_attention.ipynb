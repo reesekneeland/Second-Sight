{
 "cells": [
  {
   "cell_type": "code",
   "execution_count": 1,
   "metadata": {},
   "outputs": [
    {
     "name": "stderr",
     "output_type": "stream",
     "text": [
      "/export/raid1/home/kneel027/miniconda3/envs/SS/lib/python3.10/site-packages/tqdm/auto.py:21: TqdmWarning: IProgress not found. Please update jupyter and ipywidgets. See https://ipywidgets.readthedocs.io/en/stable/user_install.html\n",
      "  from .autonotebook import tqdm as notebook_tqdm\n"
     ]
    }
   ],
   "source": [
    "import os, sys\n",
    "# os.environ['CUDA_VISIBLE_DEVICES'] = \"2\"\n",
    "import torch\n",
    "from tqdm import tqdm\n",
    "import numpy as np\n",
    "import pandas as pd\n",
    "import matplotlib as plt\n",
    "from PIL import Image\n",
    "sys.path.append('../src')\n",
    "from utils import *\n",
    "from matplotlib.lines import Line2D\n",
    "import math\n",
    "import matplotlib.image as mpimg\n",
    "import scipy.stats as stats\n",
    "import scipy as sp\n",
    "from gnet8_encoder import GNet8_Encoder\n",
    "from torchmetrics import PearsonCorrCoef\n",
    "os.chdir(\"..\")"
   ]
  },
  {
   "cell_type": "code",
   "execution_count": 16,
   "metadata": {},
   "outputs": [],
   "source": [
    "trial_data, y = load_nsd_mental_imagery(vector = \"images\", subject=1, mode=\"attention\", stimtype=\"simple\")\n",
    "GNet = GNet8_Encoder(device=\"cuda:2\",subject=1)\n",
    "PeC1 = PearsonCorrCoef(num_outputs=1)\n"
   ]
  },
  {
   "cell_type": "code",
   "execution_count": 17,
   "metadata": {},
   "outputs": [
    {
     "name": "stderr",
     "output_type": "stream",
     "text": [
      "100%|██████████| 48/48 [00:58<00:00,  1.23s/it]"
     ]
    },
    {
     "name": "stdout",
     "output_type": "stream",
     "text": [
      "Average correlation between stimulus and brain activity for epoch 1: 0.08494614891242236\n",
      "Average correlation between stimulus and brain activity for epoch 2: -0.07908060585032217\n",
      "Average correlation between barrage and brain activity for epoch 1: 0.06706854062994876\n",
      "Average correlation between barrage and brain activity for epoch 2: -0.06099691218260493\n"
     ]
    },
    {
     "name": "stderr",
     "output_type": "stream",
     "text": [
      "\n"
     ]
    }
   ],
   "source": [
    "stim_brain_corr_epoch1 = []\n",
    "stim_brain_corr_epoch2 = []\n",
    "barrage_brain_corr_epoch1 = []\n",
    "barrage_brain_corr_epoch2 = []\n",
    "for trial in tqdm(trial_data):\n",
    "    images = trial[\"barrage\"]\n",
    "    beta1 = trial[\"voxels\"][0]\n",
    "    beta2 = trial[\"voxels\"][1]\n",
    "    target_beta_prime = GNet.predict([trial[\"stimulus\"]])[0]\n",
    "    brain_corr_rep1 = PeC1(beta1, target_beta_prime)\n",
    "    brain_corr_rep2 = PeC1(beta2, target_beta_prime)\n",
    "    stim_brain_corr_epoch1.append(float(brain_corr_rep1))\n",
    "    stim_brain_corr_epoch2.append(float(brain_corr_rep2))\n",
    "    # if len(trial[\"barrage_stim\"]) > 0:\n",
    "    #     target_beta_prime_barrage = GNet.predict(trial[\"barrage_stim\"])[0]\n",
    "    #     brain_corr_rep3 = PeC1(beta1, target_beta_prime_barrage)\n",
    "    #     brain_corr_rep4 = PeC1(beta2, target_beta_prime_barrage)\n",
    "    #     print(brain_corr_rep3, brain_corr_rep4)\n",
    "    beta_primes = GNet.predict(images)\n",
    "    PeC = PearsonCorrCoef(num_outputs=beta_primes.shape[0])\n",
    "    brain_corr_barrage1 = PeC(beta_primes.moveaxis(0,1), beta1.repeat(beta_primes.shape[0], 1).moveaxis(0, 1))\n",
    "    brain_corr_barrage2 = PeC(beta_primes.moveaxis(0,1), beta2.repeat(beta_primes.shape[0], 1).moveaxis(0, 1))\n",
    "    sorted_brain_corrs1, sorted_indices = torch.sort(torch.cat((brain_corr_barrage1, torch.tensor([brain_corr_rep1]))))\n",
    "    sorted_brain_corrs2, sorted_indices = torch.sort(torch.cat((brain_corr_barrage2, torch.tensor([brain_corr_rep2]))))\n",
    "    for bc in brain_corr_barrage1:\n",
    "        barrage_brain_corr_epoch1.append(float(bc))\n",
    "    for bc in brain_corr_barrage2:\n",
    "        barrage_brain_corr_epoch2.append(float(bc))\n",
    "    # Find the index of 'value' in the sorted tensor\n",
    "    ranked_index1 = torch.nonzero(sorted_brain_corrs1 == brain_corr_rep1).item()\n",
    "    ranked_index2 = torch.nonzero(sorted_brain_corrs2 == brain_corr_rep2).item()\n",
    "\n",
    "    # print(\"Ranking of brain_corr_rep1:\", ranked_index1)\n",
    "    # print(\"Ranking of brain_corr_rep2:\", ranked_index2)\n",
    "\n",
    "print(\"Average correlation between stimulus and brain activity for epoch 1:\", np.mean(stim_brain_corr_epoch1))\n",
    "print(\"Average correlation between stimulus and brain activity for epoch 2:\", np.mean(stim_brain_corr_epoch2))\n",
    "print(\"Average correlation between barrage and brain activity for epoch 1:\", np.mean(barrage_brain_corr_epoch1))\n",
    "print(\"Average correlation between barrage and brain activity for epoch 2:\", np.mean(barrage_brain_corr_epoch2))\n",
    "\n"
   ]
  }
 ],
 "metadata": {
  "kernelspec": {
   "display_name": "SS",
   "language": "python",
   "name": "python3"
  },
  "language_info": {
   "codemirror_mode": {
    "name": "ipython",
    "version": 3
   },
   "file_extension": ".py",
   "mimetype": "text/x-python",
   "name": "python",
   "nbconvert_exporter": "python",
   "pygments_lexer": "ipython3",
   "version": "3.10.12"
  }
 },
 "nbformat": 4,
 "nbformat_minor": 2
}
