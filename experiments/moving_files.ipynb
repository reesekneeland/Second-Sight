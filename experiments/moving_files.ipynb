{
 "cells": [
  {
   "cell_type": "code",
   "execution_count": 1,
   "metadata": {},
   "outputs": [
    {
     "name": "stderr",
     "output_type": "stream",
     "text": [
      "/export/raid1/home/kneel027/miniconda3/envs/SS/lib/python3.10/site-packages/tqdm/auto.py:21: TqdmWarning: IProgress not found. Please update jupyter and ipywidgets. See https://ipywidgets.readthedocs.io/en/stable/user_install.html\n",
      "  from .autonotebook import tqdm as notebook_tqdm\n"
     ]
    }
   ],
   "source": [
    "import os, sys, shutil\n",
    "import torch\n",
    "from tqdm import tqdm\n",
    "import numpy as np\n",
    "import pandas as pd\n",
    "import matplotlib as plt\n",
    "from PIL import Image\n",
    "sys.path.append('../src')\n",
    "from utils import *\n",
    "sys.path.append('../data')\n",
    "from data_utils import *\n",
    "from autoencoder import AutoEncoder\n",
    "from matplotlib.lines import Line2D\n",
    "import matplotlib as mpl\n",
    "import math\n",
    "import matplotlib.image as mpimg\n",
    "import random\n",
    "import keyboard\n",
    "os.chdir(\"..\")"
   ]
  },
  {
   "cell_type": "code",
   "execution_count": 3,
   "metadata": {},
   "outputs": [
    {
     "name": "stderr",
     "output_type": "stream",
     "text": [
      "100%|██████████| 6/6 [00:00<00:00,  6.72it/s]\n",
      "100%|██████████| 6/6 [00:06<00:00,  1.11s/it]\n",
      "100%|██████████| 6/6 [00:00<00:00,  7.47it/s]\n",
      "100%|██████████| 6/6 [00:00<00:00,  7.34it/s]\n"
     ]
    }
   ],
   "source": [
    "source_dir = \"/home/naxos2-raid25/kneel027/home/kneel027/Second-Sight/output/takagi_imagery/\"\n",
    "dest_dir = \"/home/naxos2-raid25/kneel027/home/kneel027/Second-Sight/output/mental_imagery_paper/imagery/takagi/\"\n",
    "\n",
    "for subj in [1,2,5,7]:\n",
    "    for sample in tqdm(range(12, 18)):\n",
    "        os.makedirs(f\"{dest_dir}subject{subj}/{sample}/\", exist_ok=True)\n",
    "        sample_dir = f\"{source_dir}subject{subj}/{sample}/\"\n",
    "        image_dir = f\"{sample_dir}/best_distribution/images/\"\n",
    "        for rep in range(5):\n",
    "            shutil.copy(f\"{image_dir}{rep}.png\", f\"{dest_dir}subject{subj}/{sample}/{rep}.png\")\n",
    "        shutil.copy(sample_dir + \"Ground Truth.png\", f\"{dest_dir}subject{subj}/{sample}/ground_truth.png\")"
   ]
  },
  {
   "cell_type": "code",
   "execution_count": 10,
   "metadata": {},
   "outputs": [
    {
     "name": "stderr",
     "output_type": "stream",
     "text": [
      "100%|██████████| 12/12 [00:00<00:00, 13614.19it/s]\n",
      "100%|██████████| 12/12 [00:00<00:00, 14114.32it/s]\n",
      "100%|██████████| 12/12 [00:00<00:00, 13654.81it/s]\n",
      "100%|██████████| 12/12 [00:00<00:00, 19722.43it/s]\n"
     ]
    }
   ],
   "source": [
    "# source_dir = \"/home/naxos2-raid25/kneel027/home/kneel027/Second-Sight/output/ss_mi_vision/\"\n",
    "dest_dir = \"/home/naxos2-raid25/kneel027/home/kneel027/Second-Sight/output/mental_imagery_paper/vision/mindeye/\"\n",
    "\n",
    "for subj in [1,2,5,7]:\n",
    "    for sample in tqdm(range(12)):\n",
    "        sample_dir = f\"{dest_dir}subject{subj}/{sample}/\"\n",
    "        os.rename(sample_dir + \"mindeye.png\", f\"{sample_dir}/0.png\")\n",
    "        # os.rename(sample_dir + \"Ground Truth.png\", f\"{sample_dir}/ground_truth.png\")"
   ]
  },
  {
   "cell_type": "code",
   "execution_count": 5,
   "metadata": {},
   "outputs": [],
   "source": [
    "# experiment_path = \"/home/naxos2-raid25/kneel027/home/kneel027/SS_release_test/Second-Sight/experiments/pilot_preference/\"\n",
    "stimuli_path = \"/home/naxos2-raid25/kneel027/home/kneel027/Second-Sight/experiments/stimuli/\"\n",
    "mi_stimuli_path = \"/home/naxos2-raid25/kneel027/home/kneel027/Second-Sight/experiments/mi_stimuli_v2/\"\n",
    "image_path = \"/home/naxos2-raid25/kneel027/home/kneel027/Second-Sight/output/mental_imagery_paper/\"\n",
    "subjects = [1,2,5,7]\n",
    "idx = [i for i in range(982)]"
   ]
  },
  {
   "cell_type": "code",
   "execution_count": 6,
   "metadata": {},
   "outputs": [
    {
     "name": "stderr",
     "output_type": "stream",
     "text": [
      "100%|██████████| 12/12 [00:00<00:00, 32.47it/s]\n",
      "100%|██████████| 12/12 [00:00<00:00, 37.33it/s]\n",
      "100%|██████████| 12/12 [00:00<00:00, 42.69it/s]\n",
      "100%|██████████| 12/12 [00:00<00:00, 23.52it/s]\n",
      "100%|██████████| 12/12 [00:00<00:00, 27.27it/s]\n",
      "100%|██████████| 12/12 [00:00<00:00, 32.62it/s]\n",
      "100%|██████████| 12/12 [00:00<00:00, 30.99it/s]\n",
      "100%|██████████| 12/12 [00:00<00:00, 28.99it/s]\n"
     ]
    }
   ],
   "source": [
    "for subj in subjects:\n",
    "    for mode in [\"vision\", \"imagery\"]:\n",
    "        for method in [\"mindeye\", \"secondsight\", \"braindiffuser\", \"tagaki\"]:\n",
    "            for sample in tqdm(range(12)):\n",
    "                source = f\"{image_path}{mode}/{method}/subject{subj}/{sample}/\"\n",
    "                for rep in range(5):\n",
    "                    shutil.copy(f\"{source}{rep}.png\", f\"{mi_stimuli_path}mi_{sample}_subject{subj}_{method}_{mode}_{rep}.png\")\n",
    "                shutil.copy(f\"{source}ground_truth.png\", f\"{mi_stimuli_path}mi_{sample}_ground_truth.png\")\n",
    "                if method != \"secondsight\":\n",
    "                    shutil.copy(f\"{source}low_level.png\", f\"{mi_stimuli_path}mi_{sample}_subject{subj}_{method}_{mode}_low.png\")"
   ]
  },
  {
   "cell_type": "code",
   "execution_count": 8,
   "metadata": {},
   "outputs": [
    {
     "name": "stderr",
     "output_type": "stream",
     "text": [
      "100%|██████████| 12/12 [00:00<00:00, 46.04it/s]\n",
      "100%|██████████| 12/12 [00:00<00:00, 74.11it/s]\n",
      "100%|██████████| 12/12 [00:00<00:00, 56.09it/s]\n",
      "100%|██████████| 12/12 [00:00<00:00, 50.70it/s]\n",
      "100%|██████████| 12/12 [00:00<00:00, 108.73it/s]\n",
      "100%|██████████| 12/12 [00:00<00:00, 92.53it/s]\n",
      "100%|██████████| 12/12 [00:00<00:00, 58.30it/s]\n",
      "100%|██████████| 12/12 [00:00<00:00, 68.78it/s]\n"
     ]
    }
   ],
   "source": [
    "#Move brain diffuser imagery images\n",
    "for subj in subjects:\n",
    "    for i in tqdm(range(12)):\n",
    "        source = f\"{image_path}brain_diffuser_imagery/subject{subj}/{i}/\"\n",
    "        dest = f\"{mi_stimuli_path}\"\n",
    "        os.makedirs(dest, exist_ok=True)\n",
    "        shutil.copy(source + \"0.png\", dest + f\"mi_{i}_subject{subj}_braindiffuser_imagery.png\")\n",
    "        shutil.copy(source + \"Ground Truth.png\", dest + f\"mi_{i}_ground_truth.png\")\n",
    "        shutil.copy(source + \"vdvae.png\", dest + f\"mi_{i}_subject{subj}_braindiffuser_low_imagery.png\")\n",
    "        \n",
    "for subj in subjects:\n",
    "    for i in tqdm(range(12)):\n",
    "        source = f\"{image_path}brain_diffuser_vision/subject{subj}/{i}/\"\n",
    "        dest = f\"{mi_stimuli_path}\"\n",
    "        os.makedirs(dest, exist_ok=True)\n",
    "        shutil.copy(source + \"0.png\", dest + f\"mi_{i}_subject{subj}_braindiffuser_vision.png\")\n",
    "        shutil.copy(source + \"Ground Truth.png\", dest + f\"mi_{i}_ground_truth.png\")\n",
    "        shutil.copy(source + \"vdvae.png\", dest + f\"mi_{i}_subject{subj}_braindiffuser_low_vision_.png\")"
   ]
  },
  {
   "cell_type": "code",
   "execution_count": 12,
   "metadata": {},
   "outputs": [
    {
     "name": "stderr",
     "output_type": "stream",
     "text": [
      "100%|██████████| 12/12 [00:00<00:00, 21.96it/s]\n",
      "100%|██████████| 12/12 [00:00<00:00, 23.05it/s]\n",
      "100%|██████████| 12/12 [00:00<00:00, 24.54it/s]\n",
      "100%|██████████| 12/12 [00:00<00:00, 21.17it/s]\n",
      "100%|██████████| 12/12 [00:00<00:00, 24.43it/s]\n",
      "100%|██████████| 12/12 [00:00<00:00, 19.74it/s]\n",
      "100%|██████████| 12/12 [00:00<00:00, 57.62it/s]\n",
      "100%|██████████| 12/12 [00:00<00:00, 58.34it/s]\n"
     ]
    }
   ],
   "source": [
    "for subj in subjects:\n",
    "    for i in tqdm(range(12)):\n",
    "        source = f\"{image_path}mindeye_imagery/subject{subj}/{i}/\"\n",
    "        dest = f\"{mi_stimuli_path}\"\n",
    "        os.makedirs(dest, exist_ok=True)\n",
    "        shutil.copy(source + \"mindeye.png\", dest + f\"mi_{i}_subject{subj}_mindeye_imagery.png\")\n",
    "        shutil.copy(source + \"low_level.png\", dest + f\"mi_{i}_subject{subj}_mindeye_low_imagery.png\")\n",
    "        \n",
    "for subj in subjects:\n",
    "    for i in tqdm(range(12)):\n",
    "        source = f\"{image_path}mindeye_vision/subject{subj}/{i}/\"\n",
    "        dest = f\"{mi_stimuli_path}\"\n",
    "        os.makedirs(dest, exist_ok=True)\n",
    "        shutil.copy(source + \"mindeye.png\", dest + f\"mi_{i}_subject{subj}_mindeye_vision.png\")\n",
    "        shutil.copy(source + \"low_level.png\", dest + f\"mi_{i}_subject{subj}_mindeye_low_vision_.png\")"
   ]
  },
  {
   "cell_type": "code",
   "execution_count": 2,
   "metadata": {},
   "outputs": [],
   "source": [
    "def modify_symlink(symlink_path):\n",
    "    # Check if the path is a symbolic link\n",
    "    if os.path.islink(symlink_path):\n",
    "        # Get the current target of the symbolic link\n",
    "        current_target = os.readlink(symlink_path)\n",
    "\n",
    "        # Modify the target by removing \"SS_release_test/\"\n",
    "        new_target = current_target.replace(\"/SS_release_test\", \"\")\n",
    "\n",
    "        # Remove the existing symbolic link\n",
    "        os.unlink(symlink_path)\n",
    "\n",
    "        # Create a new symbolic link with the modified target\n",
    "        os.symlink(new_target, symlink_path)\n",
    "        print(f\"Modified symlink {symlink_path} to point to {new_target}\")\n",
    "    else:\n",
    "        print(f\"{symlink_path} is not a symbolic link.\")"
   ]
  },
  {
   "cell_type": "code",
   "execution_count": null,
   "metadata": {},
   "outputs": [],
   "source": [
    "path = \"/home/naxos2-raid25/kneel027/home/kneel027/Second-Sight/output/mindeye_extension_v6/\"\n",
    "\n",
    "for subject in [1, 2, 5, 7]:\n",
    "    for idx in range(982):\n",
    "        idx_path = f\"{path}subject{subject}/{idx}/\"\n",
    "        folders = os.listdir(idx_path)\n",
    "        for folder in folders:\n",
    "            if os.path.isdir(os.path.join(idx_path, folder)) and folder != \"best_distribution\":\n",
    "                folder_path = f\"{idx_path}{folder}/\"\n",
    "                files = os.listdir(folder_path)\n",
    "                for file in files:\n",
    "                    if file == \"best_batch\":\n",
    "                        file_path = f\"{folder_path}{file}\"\n",
    "                        modify_symlink(file_path)"
   ]
  },
  {
   "cell_type": "code",
   "execution_count": 7,
   "metadata": {},
   "outputs": [
    {
     "name": "stderr",
     "output_type": "stream",
     "text": [
      "100%|██████████| 982/982 [02:55<00:00,  5.58it/s]\n",
      "100%|██████████| 982/982 [04:38<00:00,  3.53it/s]\n",
      "100%|██████████| 982/982 [04:26<00:00,  3.69it/s]\n",
      "100%|██████████| 982/982 [04:29<00:00,  3.64it/s]\n"
     ]
    }
   ],
   "source": [
    "source_path = \"/home/naxos2-raid25/kneel027/home/kneel027/misc_repos/brain-diffuser_mi/results/vdvae/\"\n",
    "dest_path = \"/home/naxos2-raid25/kneel027/home/kneel027/Second-Sight-Archive/reconstructions/\" # subject1/Brain Diffuser regen\"\n",
    "index_mapping = list(np.load(\"/home/naxos2-raid25/kneel027/home/kneel027/StableDiffusionReconstruction/index_mapping.npy\"))\n",
    "for subject in [1, 2, 5, 7]:\n",
    "    for idx in tqdm(range(982)):\n",
    "        idx_path = f\"{source_path}subj0{subject}/{idx}.png\"\n",
    "        idx_dest = f\"{dest_path}subject{subject}/Brain Diffuser regen/{index_mapping[idx]}/\"\n",
    "        shutil.copy(idx_path, idx_dest + \"low_level.png\")\n",
    "        try:\n",
    "            os.rename(idx_dest + \"Ground Truth.png\", idx_dest + \"ground_truth.png\")\n",
    "        except:\n",
    "            pass"
   ]
  },
  {
   "cell_type": "code",
   "execution_count": 5,
   "metadata": {},
   "outputs": [
    {
     "name": "stderr",
     "output_type": "stream",
     "text": [
      "100%|██████████| 480/480 [00:05<00:00, 84.92it/s] \n",
      "100%|██████████| 480/480 [00:06<00:00, 77.80it/s] \n",
      "100%|██████████| 480/480 [00:15<00:00, 30.09it/s]\n",
      "100%|██████████| 480/480 [00:16<00:00, 29.04it/s]\n"
     ]
    }
   ],
   "source": [
    "#Move brain diffuser extra random images\n",
    "bd_path = \"/home/naxos2-raid25/kneel027/home/kneel027/Second-Sight-Archive/reconstructions/\"\n",
    "random_stimuli_path = \"/home/naxos2-raid25/kneel027/home/kneel027/Second-Sight/experiments/new_random_stimuli/\"\n",
    "samples = random.sample(range(982), 480)\n",
    "\n",
    "for s, subject in enumerate([1,2,5,7]):\n",
    "    for i in tqdm(range(480)):\n",
    "        source = f\"{bd_path}subject{subject}/Brain Diffuser regen/{samples[i]}/\"\n",
    "        shutil.copy(f\"{source}0.png\", f\"{random_stimuli_path}{i}_subject{subject}_braindiffuser_random.png\")\n",
    "        if i<24:\n",
    "            shutil.copy(f\"{source}low_level.png\", f\"{random_stimuli_path}{i}_subject{subject}_braindiffuser_low_random.png\")\n",
    "        "
   ]
  },
  {
   "cell_type": "code",
   "execution_count": 6,
   "metadata": {},
   "outputs": [
    {
     "name": "stderr",
     "output_type": "stream",
     "text": [
      "100%|██████████| 480/480 [00:17<00:00, 27.26it/s]\n",
      "100%|██████████| 480/480 [00:17<00:00, 27.05it/s]\n",
      "100%|██████████| 480/480 [00:17<00:00, 27.02it/s]\n",
      "100%|██████████| 480/480 [00:17<00:00, 27.41it/s]\n"
     ]
    }
   ],
   "source": [
    "#Move tagaki extra random images\n",
    "ta_path = \"/home/naxos2-raid25/kneel027/home/kneel027/Second-Sight/output/tagaki_nsd_vision/\"\n",
    "random_stimuli_path = \"/home/naxos2-raid25/kneel027/home/kneel027/Second-Sight/experiments/new_random_stimuli/\"\n",
    "samples = random.sample(range(982), 480)\n",
    "\n",
    "for s, subject in enumerate([1,2,5,7]):\n",
    "    for i in tqdm(range(480)):\n",
    "        source = f\"{ta_path}subject{subject}/{samples[i]}/\"\n",
    "        shutil.copy(f\"{source}0.png\", f\"{random_stimuli_path}{i}_subject{subject}_tagaki_random.png\")\n",
    "        if i<24:\n",
    "            shutil.copy(f\"{source}low_level.png\", f\"{random_stimuli_path}{i}_subject{subject}_tagaki_low_random.png\")"
   ]
  },
  {
   "cell_type": "code",
   "execution_count": 20,
   "metadata": {},
   "outputs": [
    {
     "name": "stderr",
     "output_type": "stream",
     "text": [
      "  0%|          | 0/120 [00:00<?, ?it/s]"
     ]
    },
    {
     "name": "stderr",
     "output_type": "stream",
     "text": [
      "100%|██████████| 120/120 [00:00<00:00, 245.25it/s]\n",
      "100%|██████████| 120/120 [00:00<00:00, 227.57it/s]\n",
      "100%|██████████| 120/120 [00:00<00:00, 292.56it/s]\n",
      "100%|██████████| 120/120 [00:00<00:00, 128.65it/s]\n"
     ]
    }
   ],
   "source": [
    "#Move mindeye extra random images\n",
    "me_path = \"/home/naxos2-raid25/kneel027/home/kneel027/Second-Sight/output/mindeye_extension_v6/\"\n",
    "random_stimuli_path = \"/home/naxos2-raid25/kneel027/home/kneel027/Second-Sight/experiments/new_random_stimuli/\"\n",
    "samples = random.sample(range(982), 480)\n",
    "\n",
    "for s, subject in enumerate([1,2,5,7]):\n",
    "    for i in tqdm(range(120)):\n",
    "        source = f\"{me_path}subject{subject}/{samples[(s*60) + i]}/\"\n",
    "        # shutil.copy(f\"{source}0.png\", f\"{random_stimuli_path}{i}_subject{subject}_mindeye_random.png\")\n",
    "        if i<24:\n",
    "            shutil.copy(f\"{source}MindEye blurry.png\", f\"{random_stimuli_path}{i}_subject{subject}_mindeye_low_random.png\")"
   ]
  },
  {
   "cell_type": "code",
   "execution_count": 22,
   "metadata": {},
   "outputs": [
    {
     "name": "stderr",
     "output_type": "stream",
     "text": [
      "100%|██████████| 982/982 [02:41<00:00,  6.08it/s]\n",
      "100%|██████████| 982/982 [01:18<00:00, 12.56it/s]\n",
      "100%|██████████| 982/982 [01:11<00:00, 13.79it/s]\n",
      "100%|██████████| 982/982 [01:12<00:00, 13.57it/s]\n"
     ]
    }
   ],
   "source": [
    "#Move mindeye images to their own folder\n",
    "me_path = \"/home/naxos2-raid25/kneel027/home/kneel027/fMRI-reconstruction-NSD/reconstructions/nsd_vision/\"\n",
    "dest_path = \"/home/naxos2-raid25/kneel027/home/kneel027/Second-Sight/output/second_sight_paper/mindeye/\"\n",
    "\n",
    "for s, subject in enumerate([1,2,5,7]):\n",
    "    for i in tqdm(range(982)):\n",
    "        source = f\"{me_path}subject{subject}/{i}/\"\n",
    "        dest = f\"{dest_path}subject{subject}/{i}/\"\n",
    "        os.makedirs(dest, exist_ok=True)\n",
    "        shutil.copy(f\"{source}mindeye.png\", f\"{dest}0.png\")\n",
    "        shutil.copy(f\"{source}low_level.png\", f\"{dest}low_level.png\")\n",
    "        shutil.copy(f\"{source}ground_truth.png\", f\"{dest}ground_truth.png\")"
   ]
  },
  {
   "cell_type": "code",
   "execution_count": 23,
   "metadata": {},
   "outputs": [
    {
     "name": "stderr",
     "output_type": "stream",
     "text": [
      "100%|██████████| 982/982 [01:32<00:00, 10.60it/s]\n",
      "100%|██████████| 982/982 [01:32<00:00, 10.57it/s]\n",
      "100%|██████████| 982/982 [01:31<00:00, 10.69it/s]\n",
      "100%|██████████| 982/982 [01:32<00:00, 10.64it/s]\n"
     ]
    }
   ],
   "source": [
    "#Move second sight images to their own folder\n",
    "me_path = \"/home/naxos2-raid25/kneel027/home/kneel027/Second-Sight/output/mindeye_extension_v6/\"\n",
    "dest_path = \"/home/naxos2-raid25/kneel027/home/kneel027/Second-Sight/output/second_sight_paper/secondsight/\"\n",
    "\n",
    "for s, subject in enumerate([1,2,5,7]):\n",
    "    for i in tqdm(range(982)):\n",
    "        source = f\"{me_path}subject{subject}/{i}/\"\n",
    "        dest = f\"{dest_path}subject{subject}/{i}/\"\n",
    "        os.makedirs(dest, exist_ok=True)\n",
    "        shutil.copy(f\"{source}search_reconstruction.png\", f\"{dest}0.png\")\n",
    "        # shutil.copy(f\"{source}low_level.png\", f\"{dest}low_level.png\")\n",
    "        shutil.copy(f\"{source}Ground Truth.png\", f\"{dest}ground_truth.png\")"
   ]
  },
  {
   "cell_type": "code",
   "execution_count": 8,
   "metadata": {},
   "outputs": [
    {
     "name": "stderr",
     "output_type": "stream",
     "text": [
      "100%|██████████| 4128/4128 [00:21<00:00, 188.63it/s]\n"
     ]
    }
   ],
   "source": [
    "#Move random extra random images to final folder\n",
    "random_stimuli_path = \"/home/naxos2-raid25/kneel027/home/kneel027/Second-Sight/experiments/new_random_stimuli/\"\n",
    "final_stimuli_path = \"/home/naxos2-raid25/kneel027/home/kneel027/Second-Sight/experiments/final_stimuli_extra/\"\n",
    "for file in tqdm(os.listdir(random_stimuli_path)):\n",
    "    shutil.copy(f\"{random_stimuli_path}{file}\", f\"{final_stimuli_path}{file}\")"
   ]
  },
  {
   "cell_type": "code",
   "execution_count": 2,
   "metadata": {},
   "outputs": [
    {
     "name": "stdout",
     "output_type": "stream",
     "text": [
      "/export/raid1/home/kneel027/Second-Sight\n"
     ]
    }
   ],
   "source": [
    "\n",
    "os.chdir(\"..\")\n",
    "for subject in range(1, 9):\n",
    "    process_masks(subject=subject)"
   ]
  },
  {
   "cell_type": "code",
   "execution_count": 7,
   "metadata": {},
   "outputs": [
    {
     "name": "stdout",
     "output_type": "stream",
     "text": [
      "Data written to: /export/raid1/home/kneel027/MindEyeV2//brain_region_masks.hdf5\n",
      "(15724,)\n",
      "(14278,)\n",
      "(15226,)\n",
      "(13153,)\n",
      "(13039,)\n",
      "(17907,)\n",
      "(12682,)\n",
      "(14386,)\n"
     ]
    }
   ],
   "source": [
    "import h5py\n",
    "mindeyev2_path = \"/export/raid1/home/kneel027/MindEyeV2/\"\n",
    "data_path = \"/export/raid1/home/kneel027/Second-Sight/data/preprocessed_data/\"\n",
    "\n",
    "# Create an h5py file\n",
    "file_path = f\"{mindeyev2_path}/brain_region_masks.hdf5\"\n",
    "with h5py.File(file_path, \"w\") as file:\n",
    "    for subject in range(1,9):\n",
    "        # Load the masks data\n",
    "        early_vis = torch.load(f\"{data_path}subject{subject}/masks/early_vis.pt\")\n",
    "        higher_vis = torch.load(f\"{data_path}subject{subject}/masks/higher_vis.pt\")\n",
    "        V1 = torch.load(f\"{data_path}subject{subject}/masks/V1.pt\")\n",
    "        V2 = torch.load(f\"{data_path}subject{subject}/masks/V2.pt\")\n",
    "        V3 = torch.load(f\"{data_path}subject{subject}/masks/V3.pt\")\n",
    "        V4 = torch.load(f\"{data_path}subject{subject}/masks/V4.pt\")\n",
    "        nsd_general = torch.full(V4.shape, True)\n",
    "        \n",
    "        # Create a group for each subject\n",
    "        subject_group = file.create_group(f\"subj0{subject}\")\n",
    "        \n",
    "        # Write the masks data to the h5py file\n",
    "        subject_group.create_dataset(\"nsd_general\", data=nsd_general)\n",
    "        subject_group.create_dataset(\"early_vis\", data=early_vis)\n",
    "        subject_group.create_dataset(\"higher_vis\", data=higher_vis)\n",
    "        subject_group.create_dataset(\"V1\", data=V1)\n",
    "        subject_group.create_dataset(\"V2\", data=V2)\n",
    "        subject_group.create_dataset(\"V3\", data=V3)\n",
    "        subject_group.create_dataset(\"V4\", data=V4)\n",
    "\n",
    "# Print the file path\n",
    "print(f\"Data written to: {file_path}\")\n",
    "\n",
    "# Specify the file path\n",
    "\n",
    "# Open the h5py file\n",
    "with h5py.File(file_path, \"r\") as file:\n",
    "    # Iterate over each subject\n",
    "    for subject in file.keys():\n",
    "        subject_group = file[subject]\n",
    "        \n",
    "        # Load the masks data for each subject\n",
    "        early_vis = subject_group[\"early_vis\"][:]\n",
    "        higher_vis = subject_group[\"higher_vis\"][:]\n",
    "        V1 = subject_group[\"V1\"][:]\n",
    "        V2 = subject_group[\"V2\"][:]\n",
    "        V3 = subject_group[\"V3\"][:]\n",
    "        V4 = subject_group[\"V4\"][:]\n",
    "        print(V4.shape)\n",
    "        \n",
    "        # Use the loaded data as needed\n",
    "        # ...\n",
    "\n"
   ]
  },
  {
   "cell_type": "code",
   "execution_count": 4,
   "metadata": {},
   "outputs": [
    {
     "name": "stdout",
     "output_type": "stream",
     "text": [
      "983\n"
     ]
    }
   ],
   "source": [
    "import shutil\n",
    "source_path = \"/home/naxos2-raid25/kneel027/home/kneel027/Second-Sight/output/second_sight_paper/secondsight/\"\n",
    "dest_path = \"/home/naxos2-raid25/kneel027/home/kneel027/MindEyeV2/results/mindeye_boi_40/\"\n",
    "conversion_idx = [0, 1, 2, 3, 4, 5, 6, 7, 8, 9, 10, 11, 12, 13, 14, 15, 16, 17, 18, 19, 20, 21, 22, 23, 24, 25, 26, 27, 28, 29, 30, 31, 32, 33, 34, 35, 36, 37, 38, 39, 40, 41, 42, 43, 44, 45, 47, 48, 49, 50, 51, 52, 53, 54, 55, 57, 58, 59, 60, 61, 62, 63, 64, 65, 66, 67, 69, 70, 71, 72, 73, 74, 75, 76, 77, 78, 79, 80, 81, 82, 83, 84, 85, 86, 87, 88, 89, 90, 91, 92, 93, 95, 96, 97, 98, 99, 100, 101, 102, 103, 104, 105, 106, 107, 108, 109, 110, 111, 112, 113, 115, 116, 117, 118, 119, 120, 121, 122, 123, 124, 125, 126, 127, 128, 129, 130, 131, 132, 133, 134, 135, 136, 137, 138, 139, 140, 141, 142, 143, 144, 145, 146, 147, 148, 149, 150, 151, 152, 153, 154, 155, 157, 158, 159, 160, 161, 162, 163, 164, 165, 166, 167, 168, 169, 170, 171, 172, 173, 174, 175, 176, 177, 178, 179, 180, 181, 182, 183, 184, 185, 186, 187, 188, 189, 190, 191, 192, 193, 194, 195, 196, 197, 198, 199, 200, 201, 202, 203, 204, 205, 206, 207, 208, 209, 210, 211, 212, 213, 214, 215, 216, 217, 218, 219, 220, 221, 222, 223, 224, 225, 226, 227, 228, 229, 230, 231, 232, 233, 234, 235, 236, 237, 238, 239, 240, 241, 242, 243, 244, 245, 246, 247, 248, 249, 250, 251, 252, 253, 254, 255, 256, 257, 258, 259, 260, 261, 262, 263, 264, 265, 266, 267, 268, 269, 270, 271, 272, 273, 274, 275, 276, 277, 278, 279, 280, 281, 282, 283, 284, 285, 286, 287, 288, 289, 290, 291, 292, 293, 294, 295, 296, 297, 298, 299, 300, 301, 302, 303, 304, 305, 306, 307, 308, 309, 310, 311, 312, 313, 314, 315, 316, 317, 318, 319, 320, 321, 322, 323, 324, 325, 326, 327, 328, 329, 330, 331, 332, 333, 334, 335, 336, 337, 338, 339, 340, 341, 342, 343, 344, 345, 346, 347, 348, 349, 350, 351, 352, 353, 354, 355, 356, 357, 358, 359, 360, 361, 362, 363, 364, 365, 366, 367, 368, 369, 370, 371, 372, 373, 374, 375, 376, 377, 378, 379, 380, 381, 382, 383, 384, 385, 386, 387, 388, 389, 390, 391, 392, 393, 394, 395, 396, 397, 398, 400, 401, 402, 403, 404, 405, 406, 407, 408, 409, 410, 411, 412, 413, 414, 415, 416, 417, 418, 419, 420, 421, 422, 423, 424, 425, 426, 427, 428, 429, 430, 431, 432, 433, 434, 435, 436, 437, 438, 439, 440, 441, 442, 443, 444, 445, 446, 447, 448, 449, 450, 451, 452, 453, 454, 455, 456, 457, 458, 459, 460, 461, 462, 463, 464, 465, 466, 467, 468, 469, 470, 471, 472, 473, 474, 475, 476, 477, 478, 479, 480, 481, 482, 483, 484, 485, 486, 487, 488, 489, 490, 491, 492, 493, 494, 495, 496, 497, 498, 499, 500, 501, 502, 503, 504, 505, 506, 507, 508, 509, 510, 511, 512, 513, 514, 515, 516, 517, 518, 519, 520, 522, 523, 525, 526, 527, 528, 529, 530, 531, 532, 533, 534, 535, 536, 537, 538, 539, 540, 541, 542, 543, 544, 545, 546, 547, 548, 549, 550, 551, 552, 553, 554, 555, 556, 557, 558, 559, 560, 561, 562, 563, 564, 565, 566, 567, 568, 569, 570, 571, 572, 573, 574, 575, 576, 577, 578, 579, 580, 581, 582, 583, 584, 585, 586, 587, 588, 589, 590, 592, 593, 594, 595, 596, 597, 598, 599, 600, 601, 602, 603, 604, 605, 606, 607, 608, 609, 610, 611, 612, 613, 614, 615, 616, 617, 618, 619, 620, 621, 622, 623, 624, 625, 626, 627, 628, 629, 630, 631, 632, 633, 634, 635, 636, 637, 638, 639, 640, 641, 642, 643, 644, 645, 646, 648, 649, 650, 651, 652, 653, 654, 655, 656, 657, 658, 659, 660, 661, 662, 663, 664, 665, 666, 667, 668, 669, 670, 671, 672, 673, 674, 675, 676, 677, 678, 679, 680, 681, 682, 683, 684, 685, 686, 687, 688, 689, 690, 691, 693, 694, 695, 696, 697, 698, 699, 700, 701, 702, 703, 704, 705, 706, 707, 708, 709, 710, 711, 712, 713, 714, 715, 716, 717, 718, 719, 720, 721, 722, 723, 724, 725, 726, 727, 728, 729, 730, 731, 732, 733, 734, 735, 736, 738, 739, 740, 741, 742, 743, 744, 745, 747, 748, 749, 750, 751, 752, 753, 754, 755, 756, 757, 758, 759, 760, 761, 762, 763, 764, 765, 767, 768, 769, 770, 771, 772, 773, 774, 775, 776, 777, 778, 779, 780, 781, 782, 783, 784, 785, 786, 787, 788, 789, 790, 791, 792, 793, 794, 795, 796, 797, 798, 799, 800, 801, 802, 803, 804, 805, 806, 807, 808, 809, 810, 811, 812, 813, 814, 815, 816, 817, 818, 819, 820, 821, 822, 823, 824, 825, 826, 827, 828, 830, 831, 832, 833, 834, 835, 836, 837, 838, 839, 840, 841, 843, 844, 845, 846, 847, 848, 849, 850, 851, 852, 853, 854, 855, 856, 857, 858, 859, 860, 861, 862, 863, 864, 865, 866, 867, 868, 869, 870, 871, 872, 873, 874, 875, 876, 877, 878, 879, 880, 881, 882, 883, 884, 885, 886, 887, 888, 889, 890, 891, 892, 893, 894, 895, 896, 897, 898, 899, 900, 901, 903, 904, 905, 906, 907, 908, 909, 910, 911, 912, 913, 914, 915, 916, 917, 918, 919, 920, 921, 922, 923, 924, 925, 926, 927, 928, 929, 930, 931, 932, 933, 934, 935, 936, 937, 938, 939, 940, 941, 942, 943, 944, 945, 946, 947, 948, 949, 950, 951, 952, 953, 954, 955, 956, 957, 958, 959, 960, 961, 962, 963, 964, 965, 966, 967, 968, 969, 970, 971, 972, 973, 974, 975, 976, 977, 978, 979, 980, 981, 982, 983, 984, 985, 986, 987, 988, 989, 990, 991, 992, 993, 994, 995, 996, 997, 998, 999, 1000]\n",
    "print(len(conversion_idx))\n",
    "for subject in [1,2,5,7]:\n",
    "    for i in range(982):\n",
    "        new_idx = conversion_idx[i]\n",
    "        source_file = f\"{source_path}subject{subject}/{i}/0.png\"\n",
    "        dest_file = f\"{dest_path}subj0{subject}/{new_idx}.png\"\n",
    "        os.makedirs(f\"{dest_path}subj0{subject}/\", exist_ok=True)\n",
    "        shutil.copy(source_file, dest_file)\n"
   ]
  },
  {
   "cell_type": "code",
   "execution_count": 4,
   "metadata": {},
   "outputs": [
    {
     "name": "stdout",
     "output_type": "stream",
     "text": [
      "torch.Size([30000, 15724])\n"
     ]
    },
    {
     "name": "stderr",
     "output_type": "stream",
     "text": [
      "loading samples: 100%|██████████| 30000/30000 [00:19<00:00, 1517.88it/s] \n"
     ]
    },
    {
     "name": "stdout",
     "output_type": "stream",
     "text": [
      "Data Shapes... x_train: torch.Size([22950, 15724]), x_val: torch.Size([4050, 15724]), x_test: torch.Size([1000, 3, 15724]), y_train: torch.Size([22950, 541875]), y_val: torch.Size([4050, 541875]), y_test: torch.Size([1000, 541875])\n"
     ]
    },
    {
     "name": "stderr",
     "output_type": "stream",
     "text": [
      "  0%|          | 0/1000 [00:00<?, ?it/s]\n"
     ]
    },
    {
     "ename": "NameError",
     "evalue": "name 'transforms' is not defined",
     "output_type": "error",
     "traceback": [
      "\u001b[0;31m---------------------------------------------------------------------------\u001b[0m",
      "\u001b[0;31mNameError\u001b[0m                                 Traceback (most recent call last)",
      "Cell \u001b[0;32mIn[4], line 6\u001b[0m\n\u001b[1;32m      4\u001b[0m \u001b[38;5;28;01mfor\u001b[39;00m i \u001b[38;5;129;01min\u001b[39;00m tqdm(\u001b[38;5;28mrange\u001b[39m(\u001b[38;5;241m1000\u001b[39m)):\n\u001b[1;32m      5\u001b[0m     pil_image \u001b[38;5;241m=\u001b[39m Image\u001b[38;5;241m.\u001b[39mfromarray(images[i]\u001b[38;5;241m.\u001b[39mnumpy()\u001b[38;5;241m.\u001b[39mreshape((\u001b[38;5;241m425\u001b[39m, \u001b[38;5;241m425\u001b[39m, \u001b[38;5;241m3\u001b[39m))\u001b[38;5;241m.\u001b[39mastype(np\u001b[38;5;241m.\u001b[39muint8))\n\u001b[0;32m----> 6\u001b[0m     tensor_image \u001b[38;5;241m=\u001b[39m \u001b[43mtransforms\u001b[49m\u001b[38;5;241m.\u001b[39mToTensor()(pil_img)\n\u001b[1;32m      7\u001b[0m     all_images_tensor[i] \u001b[38;5;241m=\u001b[39m tensor_image\n\u001b[1;32m      8\u001b[0m \u001b[38;5;28mprint\u001b[39m(recon_tensor\u001b[38;5;241m.\u001b[39mshape, all_images_tensor\u001b[38;5;241m.\u001b[39mshape)\n",
      "\u001b[0;31mNameError\u001b[0m: name 'transforms' is not defined"
     ]
    }
   ],
   "source": [
    "_, _, x_test, _, _, images, _ = load_nsd(vector=\"images\", subject=1, loader=False, average=False, nest=True, include_heldout=True)\n"
   ]
  },
  {
   "cell_type": "code",
   "execution_count": 8,
   "metadata": {},
   "outputs": [
    {
     "name": "stderr",
     "output_type": "stream",
     "text": [
      "100%|██████████| 1000/1000 [00:00<00:00, 1075.78it/s]"
     ]
    },
    {
     "name": "stdout",
     "output_type": "stream",
     "text": [
      "torch.Size([1000, 3, 425, 425])\n"
     ]
    },
    {
     "name": "stderr",
     "output_type": "stream",
     "text": [
      "\n"
     ]
    }
   ],
   "source": [
    "from torchvision import transforms\n",
    "imsize = 425\n",
    "all_images_tensor = torch.zeros((1000, 3, imsize, imsize))\n",
    "for i in tqdm(range(1000)):\n",
    "    pil_img = Image.fromarray(images[i].numpy().reshape((425, 425, 3)).astype(np.uint8))\n",
    "    tensor_image = transforms.ToTensor()(pil_img)\n",
    "    all_images_tensor[i] = tensor_image\n",
    "print(all_images_tensor.shape)\n",
    "torch.save(all_images_tensor, f\"experiments/MindEye2_evals/raw_stimuli/all_images_425.pt\")"
   ]
  }
 ],
 "metadata": {
  "kernelspec": {
   "display_name": "SS",
   "language": "python",
   "name": "python3"
  },
  "language_info": {
   "codemirror_mode": {
    "name": "ipython",
    "version": 3
   },
   "file_extension": ".py",
   "mimetype": "text/x-python",
   "name": "python",
   "nbconvert_exporter": "python",
   "pygments_lexer": "ipython3",
   "version": "3.10.12"
  }
 },
 "nbformat": 4,
 "nbformat_minor": 2
}
