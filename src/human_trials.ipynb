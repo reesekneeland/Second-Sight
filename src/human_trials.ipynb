{
 "cells": [
  {
   "cell_type": "code",
   "execution_count": 1,
   "metadata": {},
   "outputs": [
    {
     "name": "stderr",
     "output_type": "stream",
     "text": [
      "/export/raid1/home/kneel027/miniconda3/envs/SS/lib/python3.10/site-packages/tqdm/auto.py:21: TqdmWarning: IProgress not found. Please update jupyter and ipywidgets. See https://ipywidgets.readthedocs.io/en/stable/user_install.html\n",
      "  from .autonotebook import tqdm as notebook_tqdm\n"
     ]
    }
   ],
   "source": [
    "import os, sys, shutil\n",
    "import torch\n",
    "from tqdm import tqdm\n",
    "import numpy as np\n",
    "import pandas as pd\n",
    "import matplotlib as plt\n",
    "from PIL import Image\n",
    "from utils import *\n",
    "from autoencoder import AutoEncoder\n",
    "from matplotlib.lines import Line2D\n",
    "import matplotlib as mpl\n",
    "import math\n",
    "import matplotlib.image as mpimg\n",
    "import random\n",
    "import keyboard\n",
    "# os.chdir(\"..\")"
   ]
  },
  {
   "cell_type": "code",
   "execution_count": 3,
   "metadata": {},
   "outputs": [],
   "source": [
    "experiment_path = \"/home/naxos2-raid25/kneel027/home/kneel027/SS_release_test/Second-Sight/experiments/pilot_preference/\"\n",
    "stimuli_path = \"/home/naxos2-raid25/kneel027/home/kneel027/SS_release_test/Second-Sight/experiments/stimuli/\"\n",
    "image_path = \"/home/naxos2-raid25/kneel027/home/kneel027/SS_release_test/Second-Sight/output/mindeye_extension_v6/\"\n",
    "subjects = [1]\n",
    "idx = [i for i in range(500)]"
   ]
  },
  {
   "cell_type": "code",
   "execution_count": 4,
   "metadata": {},
   "outputs": [
    {
     "name": "stderr",
     "output_type": "stream",
     "text": [
      "100%|██████████| 500/500 [00:00<00:00, 805.13it/s]\n"
     ]
    }
   ],
   "source": [
    "for subj in subjects:\n",
    "    for i in tqdm(idx):\n",
    "        source = f\"{experiment_path}subject{subj}/{i}/\"\n",
    "        dest = f\"{stimuli_path}\"\n",
    "        os.makedirs(dest, exist_ok=True)\n",
    "        shutil.copy(source + \"mindeye.png\", dest + f\"{i}_subject{subj}_mindeye.png\")\n",
    "        shutil.copy(source + \"ground_truth.png\", dest + f\"{i}_subject{subj}_ground_truth.png\")\n",
    "        shutil.copy(source + \"secondsight.png\", dest + f\"{i}_subject{subj}_secondsight.png\")\n",
    "        \n",
    "        "
   ]
  },
  {
   "cell_type": "code",
   "execution_count": 34,
   "metadata": {},
   "outputs": [
    {
     "name": "stdout",
     "output_type": "stream",
     "text": [
      "                  ground_truth                     stim1  \\\n",
      "0      0_subject1_ground_truth    0_subject1_secondsight   \n",
      "1      1_subject1_ground_truth    1_subject1_secondsight   \n",
      "2      2_subject1_ground_truth        2_subject1_mindeye   \n",
      "3      3_subject1_ground_truth        3_subject1_mindeye   \n",
      "4      4_subject1_ground_truth    4_subject1_secondsight   \n",
      "..                         ...                       ...   \n",
      "495  495_subject1_ground_truth  495_subject1_secondsight   \n",
      "496  496_subject1_ground_truth  496_subject1_secondsight   \n",
      "497  497_subject1_ground_truth  497_subject1_secondsight   \n",
      "498  498_subject1_ground_truth  498_subject1_secondsight   \n",
      "499  499_subject1_ground_truth      499_subject1_mindeye   \n",
      "\n",
      "                        stim2  sample  subject  ss_on_left  iter_count  \n",
      "0          0_subject1_mindeye       0        1        True           3  \n",
      "1          1_subject1_mindeye       1        1        True           3  \n",
      "2      2_subject1_secondsight       2        1       False           7  \n",
      "3      3_subject1_secondsight       3        1       False           7  \n",
      "4          4_subject1_mindeye       4        1        True           7  \n",
      "..                        ...     ...      ...         ...         ...  \n",
      "495      495_subject1_mindeye     495        1        True           3  \n",
      "496      496_subject1_mindeye     496        1        True           5  \n",
      "497      497_subject1_mindeye     497        1        True           6  \n",
      "498      498_subject1_mindeye     498        1        True           9  \n",
      "499  499_subject1_secondsight     499        1       False           7  \n",
      "\n",
      "[500 rows x 7 columns]\n"
     ]
    }
   ],
   "source": [
    "df_exp1 = pd.DataFrame(columns=['ground_truth', 'stim1', 'stim2', \"sample\", \"subject\", \"ss_on_left\", \"iter_count\"])\n",
    "\n",
    "i=0\n",
    "for subj in [1]: #1,2,5,7\n",
    "    for sample in range(500):\n",
    "        order = random.randrange(2)\n",
    "        sample_names = [f\"{sample}_subject{subj}_mindeye\", f\"{sample}_subject{subj}_secondsight\"]\n",
    "        \n",
    "        left_sample = sample_names.pop(order)\n",
    "        right_sample = sample_names.pop()\n",
    "        \n",
    "        #count how many iterations the sample searched for\n",
    "        iter_files = os.listdir(f\"../output/mindeye_extension_v6/subject{subj}/{sample}/\")\n",
    "        iter_count = sum(1 for file in iter_files if \"iter_\" in file and file.endswith(\".png\"))\n",
    "        \n",
    "        df_exp1.loc[i] = [f\"{sample}_subject{subj}_ground_truth\", left_sample, right_sample, sample, subj, order == 1, iter_count]\n",
    "        i+=1\n",
    "print(df_exp1)"
   ]
  },
  {
   "cell_type": "code",
   "execution_count": 41,
   "metadata": {},
   "outputs": [],
   "source": [
    "df_exp1_tsv = df_exp1[['ground_truth', 'stim1', 'stim2']].copy().sample(frac=1)\n",
    "pID_count = 0\n",
    "pIDs = []\n",
    "for i in range(len(df_exp1_tsv)):\n",
    "    pIDs.append(i // 10)\n",
    "df_exp1_tsv.insert(0, \"pID\", pIDs)\n",
    "df_exp1_tsv.to_csv(\"../experiments/stimuli_order_exp1_500_short.tsv\", sep=\"\\t\", index=False, header=False) "
   ]
  },
  {
   "cell_type": "code",
   "execution_count": 37,
   "metadata": {},
   "outputs": [
    {
     "name": "stdout",
     "output_type": "stream",
     "text": [
      "                  ground_truth                     stim1  \\\n",
      "0      0_subject1_ground_truth    0_subject1_secondsight   \n",
      "1      1_subject1_ground_truth  375_subject1_secondsight   \n",
      "2      2_subject1_ground_truth  101_subject1_secondsight   \n",
      "3      3_subject1_ground_truth    3_subject1_secondsight   \n",
      "4      4_subject1_ground_truth    4_subject1_secondsight   \n",
      "..                         ...                       ...   \n",
      "495  495_subject1_ground_truth  367_subject1_secondsight   \n",
      "496  496_subject1_ground_truth  492_subject1_secondsight   \n",
      "497  497_subject1_ground_truth  495_subject1_secondsight   \n",
      "498  498_subject1_ground_truth  308_subject1_secondsight   \n",
      "499  499_subject1_ground_truth  499_subject1_secondsight   \n",
      "\n",
      "                        stim2  sample  subject  ss_on_left  iter_count  \n",
      "0    107_subject1_secondsight       0        1        True           3  \n",
      "1      1_subject1_secondsight       1        1       False           3  \n",
      "2      2_subject1_secondsight       2        1       False           7  \n",
      "3    342_subject1_secondsight       3        1        True           7  \n",
      "4    126_subject1_secondsight       4        1        True           7  \n",
      "..                        ...     ...      ...         ...         ...  \n",
      "495  495_subject1_secondsight     495        1       False           3  \n",
      "496  496_subject1_secondsight     496        1       False           5  \n",
      "497  497_subject1_secondsight     497        1       False           6  \n",
      "498  498_subject1_secondsight     498        1       False           9  \n",
      "499  335_subject1_secondsight     499        1        True           7  \n",
      "\n",
      "[500 rows x 7 columns]\n"
     ]
    }
   ],
   "source": [
    "df_exp2 = pd.DataFrame(columns=['ground_truth', 'stim1', 'stim2', \"sample\", \"subject\", \"ss_on_left\", \"iter_count\"])\n",
    "\n",
    "i=0\n",
    "sample_count = 500\n",
    "shuffled_idx = [i for i in range(sample_count)]\n",
    "random.shuffle(shuffled_idx)\n",
    "for subj in [1]: #1,2,5,7\n",
    "    for sample in range(sample_count):\n",
    "        order = random.randrange(2)\n",
    "        random_sample = shuffled_idx[sample]\n",
    "        sample_names = [f\"{random_sample}_subject{subj}_secondsight\", f\"{sample}_subject{subj}_secondsight\"]\n",
    "        \n",
    "        left_sample = sample_names.pop(order)\n",
    "        right_sample = sample_names.pop()\n",
    "        \n",
    "        #count how many iterations the sample searched for\n",
    "        iter_files = os.listdir(f\"../output/mindeye_extension_v6/subject{subj}/{sample}/\")\n",
    "        iter_count = sum(1 for file in iter_files if \"iter_\" in file and file.endswith(\".png\"))\n",
    "        \n",
    "        df_exp2.loc[i] = [f\"{sample}_subject{subj}_ground_truth\", left_sample, right_sample, sample, subj, order == 1, iter_count]\n",
    "        i+=1\n",
    "print(df_exp2)"
   ]
  },
  {
   "cell_type": "code",
   "execution_count": 40,
   "metadata": {},
   "outputs": [],
   "source": [
    "df_exp2_tsv = df_exp2[['ground_truth', 'stim1', 'stim2']].copy().sample(frac=1)\n",
    "pID_count = 0\n",
    "pIDs = []\n",
    "for i in range(len(df_exp1_tsv)):\n",
    "    pIDs.append(i // 10)\n",
    "df_exp2_tsv.insert(0, \"pID\", pIDs)\n",
    "df_exp2_tsv.to_csv(\"../experiments/stimuli_order_exp2_500_short.tsv\", sep=\"\\t\", index=False, header=False) "
   ]
  }
 ],
 "metadata": {
  "kernelspec": {
   "display_name": "SS",
   "language": "python",
   "name": "python3"
  },
  "language_info": {
   "codemirror_mode": {
    "name": "ipython",
    "version": 3
   },
   "file_extension": ".py",
   "mimetype": "text/x-python",
   "name": "python",
   "nbconvert_exporter": "python",
   "pygments_lexer": "ipython3",
   "version": "3.10.12"
  }
 },
 "nbformat": 4,
 "nbformat_minor": 2
}
