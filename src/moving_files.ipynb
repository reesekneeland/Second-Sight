{
 "cells": [
  {
   "cell_type": "code",
   "execution_count": 3,
   "metadata": {},
   "outputs": [
    {
     "name": "stderr",
     "output_type": "stream",
     "text": [
      "/export/raid1/home/kneel027/miniconda3/envs/SS/lib/python3.10/site-packages/tqdm/auto.py:21: TqdmWarning: IProgress not found. Please update jupyter and ipywidgets. See https://ipywidgets.readthedocs.io/en/stable/user_install.html\n",
      "  from .autonotebook import tqdm as notebook_tqdm\n"
     ]
    }
   ],
   "source": [
    "import os, sys, shutil\n",
    "import torch\n",
    "from tqdm import tqdm\n",
    "import numpy as np\n",
    "import pandas as pd\n",
    "import matplotlib as plt\n",
    "from PIL import Image\n",
    "from utils import *\n",
    "from autoencoder import AutoEncoder\n",
    "from matplotlib.lines import Line2D\n",
    "import matplotlib as mpl\n",
    "import math\n",
    "import matplotlib.image as mpimg\n",
    "import random\n",
    "import keyboard\n",
    "# os.chdir(\"..\")"
   ]
  },
  {
   "cell_type": "code",
   "execution_count": 5,
   "metadata": {},
   "outputs": [
    {
     "name": "stderr",
     "output_type": "stream",
     "text": [
      "  0%|          | 0/12 [00:00<?, ?it/s]"
     ]
    },
    {
     "name": "stderr",
     "output_type": "stream",
     "text": [
      "100%|██████████| 12/12 [00:04<00:00,  2.41it/s]\n",
      "100%|██████████| 12/12 [00:01<00:00,  7.14it/s]\n",
      "100%|██████████| 12/12 [00:05<00:00,  2.02it/s]\n",
      "100%|██████████| 12/12 [00:01<00:00,  7.18it/s]\n"
     ]
    }
   ],
   "source": [
    "source_dir = \"/home/naxos2-raid25/kneel027/home/kneel027/Second-Sight/output/ss_mi_vision/\"\n",
    "dest_dir = \"/home/naxos2-raid25/kneel027/home/kneel027/Second-Sight/output/mental_imagery_paper/vision/secondsight/\"\n",
    "\n",
    "for subj in [1,2,5,7]:\n",
    "    for sample in tqdm(range(12)):\n",
    "        os.makedirs(f\"{dest_dir}subject{subj}/{sample}/\", exist_ok=True)\n",
    "        sample_dir = f\"{source_dir}subject{subj}/{sample}/\"\n",
    "        image_dir = f\"{sample_dir}/best_distribution/images/\"\n",
    "        for rep in range(5):\n",
    "            shutil.copy(f\"{image_dir}{rep}.png\", f\"{dest_dir}subject{subj}/{sample}/{rep}.png\")\n",
    "        shutil.copy(sample_dir + \"Ground Truth.png\", f\"{dest_dir}subject{subj}/{sample}/ground_truth.png\")"
   ]
  },
  {
   "cell_type": "code",
   "execution_count": 10,
   "metadata": {},
   "outputs": [
    {
     "name": "stderr",
     "output_type": "stream",
     "text": [
      "100%|██████████| 12/12 [00:00<00:00, 13614.19it/s]\n",
      "100%|██████████| 12/12 [00:00<00:00, 14114.32it/s]\n",
      "100%|██████████| 12/12 [00:00<00:00, 13654.81it/s]\n",
      "100%|██████████| 12/12 [00:00<00:00, 19722.43it/s]\n"
     ]
    }
   ],
   "source": [
    "# source_dir = \"/home/naxos2-raid25/kneel027/home/kneel027/Second-Sight/output/ss_mi_vision/\"\n",
    "dest_dir = \"/home/naxos2-raid25/kneel027/home/kneel027/Second-Sight/output/mental_imagery_paper/vision/mindeye/\"\n",
    "\n",
    "for subj in [1,2,5,7]:\n",
    "    for sample in tqdm(range(12)):\n",
    "        sample_dir = f\"{dest_dir}subject{subj}/{sample}/\"\n",
    "        os.rename(sample_dir + \"mindeye.png\", f\"{sample_dir}/0.png\")\n",
    "        # os.rename(sample_dir + \"Ground Truth.png\", f\"{sample_dir}/ground_truth.png\")"
   ]
  },
  {
   "cell_type": "code",
   "execution_count": 5,
   "metadata": {},
   "outputs": [],
   "source": [
    "# experiment_path = \"/home/naxos2-raid25/kneel027/home/kneel027/SS_release_test/Second-Sight/experiments/pilot_preference/\"\n",
    "stimuli_path = \"/home/naxos2-raid25/kneel027/home/kneel027/Second-Sight/experiments/stimuli/\"\n",
    "mi_stimuli_path = \"/home/naxos2-raid25/kneel027/home/kneel027/Second-Sight/experiments/mi_stimuli_v2/\"\n",
    "image_path = \"/home/naxos2-raid25/kneel027/home/kneel027/Second-Sight/output/mental_imagery_paper/\"\n",
    "subjects = [1,2,5,7]\n",
    "idx = [i for i in range(982)]"
   ]
  },
  {
   "cell_type": "code",
   "execution_count": 6,
   "metadata": {},
   "outputs": [
    {
     "name": "stderr",
     "output_type": "stream",
     "text": [
      "100%|██████████| 12/12 [00:00<00:00, 32.47it/s]\n",
      "100%|██████████| 12/12 [00:00<00:00, 37.33it/s]\n",
      "100%|██████████| 12/12 [00:00<00:00, 42.69it/s]\n",
      "100%|██████████| 12/12 [00:00<00:00, 23.52it/s]\n",
      "100%|██████████| 12/12 [00:00<00:00, 27.27it/s]\n",
      "100%|██████████| 12/12 [00:00<00:00, 32.62it/s]\n",
      "100%|██████████| 12/12 [00:00<00:00, 30.99it/s]\n",
      "100%|██████████| 12/12 [00:00<00:00, 28.99it/s]\n"
     ]
    }
   ],
   "source": [
    "for subj in subjects:\n",
    "    for mode in [\"vision\", \"imagery\"]:\n",
    "        for method in [\"mindeye\", \"secondsight\", \"braindiffuser\", \"tagaki\"]:\n",
    "            for sample in tqdm(range(12)):\n",
    "                source = f\"{image_path}{mode}/{method}/subject{subj}/{sample}/\"\n",
    "                for rep in range(5):\n",
    "                    shutil.copy(f\"{source}{rep}.png\", f\"{mi_stimuli_path}mi_{sample}_subject{subj}_{method}_{mode}_{rep}.png\")\n",
    "                shutil.copy(f\"{source}ground_truth.png\", f\"{mi_stimuli_path}mi_{sample}_ground_truth.png\")\n",
    "                if method != \"secondsight\":\n",
    "                    shutil.copy(f\"{source}low_level.png\", f\"{mi_stimuli_path}mi_{sample}_subject{subj}_{method}_{mode}_low.png\")"
   ]
  },
  {
   "cell_type": "code",
   "execution_count": 8,
   "metadata": {},
   "outputs": [
    {
     "name": "stderr",
     "output_type": "stream",
     "text": [
      "100%|██████████| 12/12 [00:00<00:00, 46.04it/s]\n",
      "100%|██████████| 12/12 [00:00<00:00, 74.11it/s]\n",
      "100%|██████████| 12/12 [00:00<00:00, 56.09it/s]\n",
      "100%|██████████| 12/12 [00:00<00:00, 50.70it/s]\n",
      "100%|██████████| 12/12 [00:00<00:00, 108.73it/s]\n",
      "100%|██████████| 12/12 [00:00<00:00, 92.53it/s]\n",
      "100%|██████████| 12/12 [00:00<00:00, 58.30it/s]\n",
      "100%|██████████| 12/12 [00:00<00:00, 68.78it/s]\n"
     ]
    }
   ],
   "source": [
    "#Move brain diffuser imagery images\n",
    "for subj in subjects:\n",
    "    for i in tqdm(range(12)):\n",
    "        source = f\"{image_path}brain_diffuser_imagery/subject{subj}/{i}/\"\n",
    "        dest = f\"{mi_stimuli_path}\"\n",
    "        os.makedirs(dest, exist_ok=True)\n",
    "        shutil.copy(source + \"0.png\", dest + f\"mi_{i}_subject{subj}_braindiffuser_imagery.png\")\n",
    "        shutil.copy(source + \"Ground Truth.png\", dest + f\"mi_{i}_ground_truth.png\")\n",
    "        shutil.copy(source + \"vdvae.png\", dest + f\"mi_{i}_subject{subj}_braindiffuser_low_imagery.png\")\n",
    "        \n",
    "for subj in subjects:\n",
    "    for i in tqdm(range(12)):\n",
    "        source = f\"{image_path}brain_diffuser_vision/subject{subj}/{i}/\"\n",
    "        dest = f\"{mi_stimuli_path}\"\n",
    "        os.makedirs(dest, exist_ok=True)\n",
    "        shutil.copy(source + \"0.png\", dest + f\"mi_{i}_subject{subj}_braindiffuser_vision.png\")\n",
    "        shutil.copy(source + \"Ground Truth.png\", dest + f\"mi_{i}_ground_truth.png\")\n",
    "        shutil.copy(source + \"vdvae.png\", dest + f\"mi_{i}_subject{subj}_braindiffuser_low_vision_.png\")"
   ]
  },
  {
   "cell_type": "code",
   "execution_count": 12,
   "metadata": {},
   "outputs": [
    {
     "name": "stderr",
     "output_type": "stream",
     "text": [
      "100%|██████████| 12/12 [00:00<00:00, 21.96it/s]\n",
      "100%|██████████| 12/12 [00:00<00:00, 23.05it/s]\n",
      "100%|██████████| 12/12 [00:00<00:00, 24.54it/s]\n",
      "100%|██████████| 12/12 [00:00<00:00, 21.17it/s]\n",
      "100%|██████████| 12/12 [00:00<00:00, 24.43it/s]\n",
      "100%|██████████| 12/12 [00:00<00:00, 19.74it/s]\n",
      "100%|██████████| 12/12 [00:00<00:00, 57.62it/s]\n",
      "100%|██████████| 12/12 [00:00<00:00, 58.34it/s]\n"
     ]
    }
   ],
   "source": [
    "for subj in subjects:\n",
    "    for i in tqdm(range(12)):\n",
    "        source = f\"{image_path}mindeye_imagery/subject{subj}/{i}/\"\n",
    "        dest = f\"{mi_stimuli_path}\"\n",
    "        os.makedirs(dest, exist_ok=True)\n",
    "        shutil.copy(source + \"mindeye.png\", dest + f\"mi_{i}_subject{subj}_mindeye_imagery.png\")\n",
    "        shutil.copy(source + \"low_level.png\", dest + f\"mi_{i}_subject{subj}_mindeye_low_imagery.png\")\n",
    "        \n",
    "for subj in subjects:\n",
    "    for i in tqdm(range(12)):\n",
    "        source = f\"{image_path}mindeye_vision/subject{subj}/{i}/\"\n",
    "        dest = f\"{mi_stimuli_path}\"\n",
    "        os.makedirs(dest, exist_ok=True)\n",
    "        shutil.copy(source + \"mindeye.png\", dest + f\"mi_{i}_subject{subj}_mindeye_vision.png\")\n",
    "        shutil.copy(source + \"low_level.png\", dest + f\"mi_{i}_subject{subj}_mindeye_low_vision_.png\")"
   ]
  },
  {
   "cell_type": "code",
   "execution_count": 2,
   "metadata": {},
   "outputs": [],
   "source": [
    "def modify_symlink(symlink_path):\n",
    "    # Check if the path is a symbolic link\n",
    "    if os.path.islink(symlink_path):\n",
    "        # Get the current target of the symbolic link\n",
    "        current_target = os.readlink(symlink_path)\n",
    "\n",
    "        # Modify the target by removing \"SS_release_test/\"\n",
    "        new_target = current_target.replace(\"/SS_release_test\", \"\")\n",
    "\n",
    "        # Remove the existing symbolic link\n",
    "        os.unlink(symlink_path)\n",
    "\n",
    "        # Create a new symbolic link with the modified target\n",
    "        os.symlink(new_target, symlink_path)\n",
    "        print(f\"Modified symlink {symlink_path} to point to {new_target}\")\n",
    "    else:\n",
    "        print(f\"{symlink_path} is not a symbolic link.\")"
   ]
  },
  {
   "cell_type": "code",
   "execution_count": null,
   "metadata": {},
   "outputs": [],
   "source": [
    "path = \"/home/naxos2-raid25/kneel027/home/kneel027/Second-Sight/output/mindeye_extension_v6/\"\n",
    "\n",
    "for subject in [1, 2, 5, 7]:\n",
    "    for idx in range(982):\n",
    "        idx_path = f\"{path}subject{subject}/{idx}/\"\n",
    "        folders = os.listdir(idx_path)\n",
    "        for folder in folders:\n",
    "            if os.path.isdir(os.path.join(idx_path, folder)) and folder != \"best_distribution\":\n",
    "                folder_path = f\"{idx_path}{folder}/\"\n",
    "                files = os.listdir(folder_path)\n",
    "                for file in files:\n",
    "                    if file == \"best_batch\":\n",
    "                        file_path = f\"{folder_path}{file}\"\n",
    "                        modify_symlink(file_path)"
   ]
  },
  {
   "cell_type": "code",
   "execution_count": 7,
   "metadata": {},
   "outputs": [
    {
     "name": "stderr",
     "output_type": "stream",
     "text": [
      "100%|██████████| 982/982 [02:55<00:00,  5.58it/s]\n",
      "100%|██████████| 982/982 [04:38<00:00,  3.53it/s]\n",
      "100%|██████████| 982/982 [04:26<00:00,  3.69it/s]\n",
      "100%|██████████| 982/982 [04:29<00:00,  3.64it/s]\n"
     ]
    }
   ],
   "source": [
    "source_path = \"/home/naxos2-raid25/kneel027/home/kneel027/misc_repos/brain-diffuser_mi/results/vdvae/\"\n",
    "dest_path = \"/home/naxos2-raid25/kneel027/home/kneel027/Second-Sight-Archive/reconstructions/\" # subject1/Brain Diffuser regen\"\n",
    "index_mapping = list(np.load(\"/home/naxos2-raid25/kneel027/home/kneel027/StableDiffusionReconstruction/index_mapping.npy\"))\n",
    "for subject in [1, 2, 5, 7]:\n",
    "    for idx in tqdm(range(982)):\n",
    "        idx_path = f\"{source_path}subj0{subject}/{idx}.png\"\n",
    "        idx_dest = f\"{dest_path}subject{subject}/Brain Diffuser regen/{index_mapping[idx]}/\"\n",
    "        shutil.copy(idx_path, idx_dest + \"low_level.png\")\n",
    "        try:\n",
    "            os.rename(idx_dest + \"Ground Truth.png\", idx_dest + \"ground_truth.png\")\n",
    "        except:\n",
    "            pass"
   ]
  },
  {
   "cell_type": "code",
   "execution_count": 5,
   "metadata": {},
   "outputs": [
    {
     "name": "stderr",
     "output_type": "stream",
     "text": [
      "100%|██████████| 480/480 [00:05<00:00, 84.92it/s] \n",
      "100%|██████████| 480/480 [00:06<00:00, 77.80it/s] \n",
      "100%|██████████| 480/480 [00:15<00:00, 30.09it/s]\n",
      "100%|██████████| 480/480 [00:16<00:00, 29.04it/s]\n"
     ]
    }
   ],
   "source": [
    "#Move brain diffuser extra random images\n",
    "bd_path = \"/home/naxos2-raid25/kneel027/home/kneel027/Second-Sight-Archive/reconstructions/\"\n",
    "random_stimuli_path = \"/home/naxos2-raid25/kneel027/home/kneel027/Second-Sight/experiments/new_random_stimuli/\"\n",
    "samples = random.sample(range(982), 480)\n",
    "\n",
    "for s, subject in enumerate([1,2,5,7]):\n",
    "    for i in tqdm(range(480)):\n",
    "        source = f\"{bd_path}subject{subject}/Brain Diffuser regen/{samples[i]}/\"\n",
    "        shutil.copy(f\"{source}0.png\", f\"{random_stimuli_path}{i}_subject{subject}_braindiffuser_random.png\")\n",
    "        if i<24:\n",
    "            shutil.copy(f\"{source}low_level.png\", f\"{random_stimuli_path}{i}_subject{subject}_braindiffuser_low_random.png\")\n",
    "        "
   ]
  },
  {
   "cell_type": "code",
   "execution_count": 6,
   "metadata": {},
   "outputs": [
    {
     "name": "stderr",
     "output_type": "stream",
     "text": [
      "100%|██████████| 480/480 [00:17<00:00, 27.26it/s]\n",
      "100%|██████████| 480/480 [00:17<00:00, 27.05it/s]\n",
      "100%|██████████| 480/480 [00:17<00:00, 27.02it/s]\n",
      "100%|██████████| 480/480 [00:17<00:00, 27.41it/s]\n"
     ]
    }
   ],
   "source": [
    "#Move tagaki extra random images\n",
    "ta_path = \"/home/naxos2-raid25/kneel027/home/kneel027/Second-Sight/output/tagaki_nsd_vision/\"\n",
    "random_stimuli_path = \"/home/naxos2-raid25/kneel027/home/kneel027/Second-Sight/experiments/new_random_stimuli/\"\n",
    "samples = random.sample(range(982), 480)\n",
    "\n",
    "for s, subject in enumerate([1,2,5,7]):\n",
    "    for i in tqdm(range(480)):\n",
    "        source = f\"{ta_path}subject{subject}/{samples[i]}/\"\n",
    "        shutil.copy(f\"{source}0.png\", f\"{random_stimuli_path}{i}_subject{subject}_tagaki_random.png\")\n",
    "        if i<24:\n",
    "            shutil.copy(f\"{source}low_level.png\", f\"{random_stimuli_path}{i}_subject{subject}_tagaki_low_random.png\")"
   ]
  },
  {
   "cell_type": "code",
   "execution_count": 20,
   "metadata": {},
   "outputs": [
    {
     "name": "stderr",
     "output_type": "stream",
     "text": [
      "  0%|          | 0/120 [00:00<?, ?it/s]"
     ]
    },
    {
     "name": "stderr",
     "output_type": "stream",
     "text": [
      "100%|██████████| 120/120 [00:00<00:00, 245.25it/s]\n",
      "100%|██████████| 120/120 [00:00<00:00, 227.57it/s]\n",
      "100%|██████████| 120/120 [00:00<00:00, 292.56it/s]\n",
      "100%|██████████| 120/120 [00:00<00:00, 128.65it/s]\n"
     ]
    }
   ],
   "source": [
    "#Move mindeye extra random images\n",
    "me_path = \"/home/naxos2-raid25/kneel027/home/kneel027/Second-Sight/output/mindeye_extension_v6/\"\n",
    "random_stimuli_path = \"/home/naxos2-raid25/kneel027/home/kneel027/Second-Sight/experiments/new_random_stimuli/\"\n",
    "samples = random.sample(range(982), 480)\n",
    "\n",
    "for s, subject in enumerate([1,2,5,7]):\n",
    "    for i in tqdm(range(120)):\n",
    "        source = f\"{me_path}subject{subject}/{samples[(s*60) + i]}/\"\n",
    "        # shutil.copy(f\"{source}0.png\", f\"{random_stimuli_path}{i}_subject{subject}_mindeye_random.png\")\n",
    "        if i<24:\n",
    "            shutil.copy(f\"{source}MindEye blurry.png\", f\"{random_stimuli_path}{i}_subject{subject}_mindeye_low_random.png\")"
   ]
  },
  {
   "cell_type": "code",
   "execution_count": 22,
   "metadata": {},
   "outputs": [
    {
     "name": "stderr",
     "output_type": "stream",
     "text": [
      "100%|██████████| 982/982 [02:41<00:00,  6.08it/s]\n",
      "100%|██████████| 982/982 [01:18<00:00, 12.56it/s]\n",
      "100%|██████████| 982/982 [01:11<00:00, 13.79it/s]\n",
      "100%|██████████| 982/982 [01:12<00:00, 13.57it/s]\n"
     ]
    }
   ],
   "source": [
    "#Move mindeye images to their own folder\n",
    "me_path = \"/home/naxos2-raid25/kneel027/home/kneel027/fMRI-reconstruction-NSD/reconstructions/nsd_vision/\"\n",
    "dest_path = \"/home/naxos2-raid25/kneel027/home/kneel027/Second-Sight/output/second_sight_paper/mindeye/\"\n",
    "\n",
    "for s, subject in enumerate([1,2,5,7]):\n",
    "    for i in tqdm(range(982)):\n",
    "        source = f\"{me_path}subject{subject}/{i}/\"\n",
    "        dest = f\"{dest_path}subject{subject}/{i}/\"\n",
    "        os.makedirs(dest, exist_ok=True)\n",
    "        shutil.copy(f\"{source}mindeye.png\", f\"{dest}0.png\")\n",
    "        shutil.copy(f\"{source}low_level.png\", f\"{dest}low_level.png\")\n",
    "        shutil.copy(f\"{source}ground_truth.png\", f\"{dest}ground_truth.png\")"
   ]
  },
  {
   "cell_type": "code",
   "execution_count": 23,
   "metadata": {},
   "outputs": [
    {
     "name": "stderr",
     "output_type": "stream",
     "text": [
      "100%|██████████| 982/982 [01:32<00:00, 10.60it/s]\n",
      "100%|██████████| 982/982 [01:32<00:00, 10.57it/s]\n",
      "100%|██████████| 982/982 [01:31<00:00, 10.69it/s]\n",
      "100%|██████████| 982/982 [01:32<00:00, 10.64it/s]\n"
     ]
    }
   ],
   "source": [
    "#Move second sight images to their own folder\n",
    "me_path = \"/home/naxos2-raid25/kneel027/home/kneel027/Second-Sight/output/mindeye_extension_v6/\"\n",
    "dest_path = \"/home/naxos2-raid25/kneel027/home/kneel027/Second-Sight/output/second_sight_paper/secondsight/\"\n",
    "\n",
    "for s, subject in enumerate([1,2,5,7]):\n",
    "    for i in tqdm(range(982)):\n",
    "        source = f\"{me_path}subject{subject}/{i}/\"\n",
    "        dest = f\"{dest_path}subject{subject}/{i}/\"\n",
    "        os.makedirs(dest, exist_ok=True)\n",
    "        shutil.copy(f\"{source}search_reconstruction.png\", f\"{dest}0.png\")\n",
    "        # shutil.copy(f\"{source}low_level.png\", f\"{dest}low_level.png\")\n",
    "        shutil.copy(f\"{source}Ground Truth.png\", f\"{dest}ground_truth.png\")"
   ]
  },
  {
   "cell_type": "code",
   "execution_count": null,
   "metadata": {},
   "outputs": [],
   "source": [
    "#Move random extra random images to final folder\n",
    "random_stimuli_path = \"/home/naxos2-raid25/kneel027/home/kneel027/Second-Sight/experiments/new_random_stimuli/\"\n",
    "final_stimuli_path = \"/home/naxos2-raid25/kneel027/home/kneel027/Second-Sight/experiments/final_stimuli_extra/\"\n",
    "for file in os.listdir(random_stimuli_path):\n",
    "    shutil.copy(f\"{random_stimuli_path}{file}\", f\"{final_stimuli_path}{file}\")"
   ]
  }
 ],
 "metadata": {
  "kernelspec": {
   "display_name": "SS",
   "language": "python",
   "name": "python3"
  },
  "language_info": {
   "codemirror_mode": {
    "name": "ipython",
    "version": 3
   },
   "file_extension": ".py",
   "mimetype": "text/x-python",
   "name": "python",
   "nbconvert_exporter": "python",
   "pygments_lexer": "ipython3",
   "version": "3.10.12"
  }
 },
 "nbformat": 4,
 "nbformat_minor": 2
}
